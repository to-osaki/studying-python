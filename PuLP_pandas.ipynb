{
 "cells": [
  {
   "cell_type": "code",
   "execution_count": 1,
   "metadata": {},
   "outputs": [],
   "source": [
    "import pulp\n",
    "import pandas as pd\n",
    "import io\n",
    "import itertools"
   ]
  },
  {
   "cell_type": "code",
   "execution_count": 2,
   "metadata": {},
   "outputs": [],
   "source": [
    "# 輸送問題"
   ]
  },
  {
   "cell_type": "code",
   "execution_count": 3,
   "metadata": {},
   "outputs": [],
   "source": [
    "supply = {1:100, 2:180}\n",
    "demand = {1:120, 2:40, 3:80}\n",
    "\n",
    "COSTS = io.StringIO(\"\"\"\n",
    "S,D,C\n",
    "1,1,10\n",
    "1,2,6\n",
    "1,3,16\n",
    "2,1,8\n",
    "2,2,8\n",
    "2,3,10\n",
    "\"\"\")\n",
    "df_costs = pd.read_csv(COSTS)"
   ]
  },
  {
   "cell_type": "code",
   "execution_count": 4,
   "metadata": {},
   "outputs": [],
   "source": [
    "df_costs['Var'] = [pulp.LpVariable(f'x{i}{j}', 0) for i, j in itertools.product(supply.keys(), demand.keys())]"
   ]
  },
  {
   "cell_type": "code",
   "execution_count": 5,
   "metadata": {},
   "outputs": [
    {
     "data": {
      "text/html": [
       "<div>\n",
       "<style scoped>\n",
       "    .dataframe tbody tr th:only-of-type {\n",
       "        vertical-align: middle;\n",
       "    }\n",
       "\n",
       "    .dataframe tbody tr th {\n",
       "        vertical-align: top;\n",
       "    }\n",
       "\n",
       "    .dataframe thead th {\n",
       "        text-align: right;\n",
       "    }\n",
       "</style>\n",
       "<table border=\"1\" class=\"dataframe\">\n",
       "  <thead>\n",
       "    <tr style=\"text-align: right;\">\n",
       "      <th></th>\n",
       "      <th>S</th>\n",
       "      <th>D</th>\n",
       "      <th>C</th>\n",
       "      <th>Var</th>\n",
       "    </tr>\n",
       "  </thead>\n",
       "  <tbody>\n",
       "    <tr>\n",
       "      <th>0</th>\n",
       "      <td>1</td>\n",
       "      <td>1</td>\n",
       "      <td>10</td>\n",
       "      <td>x11</td>\n",
       "    </tr>\n",
       "    <tr>\n",
       "      <th>1</th>\n",
       "      <td>1</td>\n",
       "      <td>2</td>\n",
       "      <td>6</td>\n",
       "      <td>x12</td>\n",
       "    </tr>\n",
       "    <tr>\n",
       "      <th>2</th>\n",
       "      <td>1</td>\n",
       "      <td>3</td>\n",
       "      <td>16</td>\n",
       "      <td>x13</td>\n",
       "    </tr>\n",
       "    <tr>\n",
       "      <th>3</th>\n",
       "      <td>2</td>\n",
       "      <td>1</td>\n",
       "      <td>8</td>\n",
       "      <td>x21</td>\n",
       "    </tr>\n",
       "    <tr>\n",
       "      <th>4</th>\n",
       "      <td>2</td>\n",
       "      <td>2</td>\n",
       "      <td>8</td>\n",
       "      <td>x22</td>\n",
       "    </tr>\n",
       "    <tr>\n",
       "      <th>5</th>\n",
       "      <td>2</td>\n",
       "      <td>3</td>\n",
       "      <td>10</td>\n",
       "      <td>x23</td>\n",
       "    </tr>\n",
       "  </tbody>\n",
       "</table>\n",
       "</div>"
      ],
      "text/plain": [
       "   S  D   C  Var\n",
       "0  1  1  10  x11\n",
       "1  1  2   6  x12\n",
       "2  1  3  16  x13\n",
       "3  2  1   8  x21\n",
       "4  2  2   8  x22\n",
       "5  2  3  10  x23"
      ]
     },
     "execution_count": 5,
     "metadata": {},
     "output_type": "execute_result"
    }
   ],
   "source": [
    "df_costs"
   ]
  },
  {
   "cell_type": "code",
   "execution_count": 6,
   "metadata": {},
   "outputs": [
    {
     "data": {
      "text/plain": [
       "problem_logistics:\n",
       "MINIMIZE\n",
       "10*x11 + 6*x12 + 16*x13 + 8*x21 + 8*x22 + 10*x23 + 0\n",
       "SUBJECT TO\n",
       "_C1: x11 + x12 + x13 <= 100\n",
       "\n",
       "_C2: x21 + x22 + x23 <= 180\n",
       "\n",
       "_C3: x11 + x21 = 120\n",
       "\n",
       "_C4: x12 + x22 = 40\n",
       "\n",
       "_C5: x13 + x23 = 80\n",
       "\n",
       "VARIABLES\n",
       "x11 Continuous\n",
       "x12 Continuous\n",
       "x13 Continuous\n",
       "x21 Continuous\n",
       "x22 Continuous\n",
       "x23 Continuous"
      ]
     },
     "execution_count": 6,
     "metadata": {},
     "output_type": "execute_result"
    }
   ],
   "source": [
    "pl = pulp.LpProblem('problem_logistics')\n",
    "pl += pulp.lpDot(df_costs.C, df_costs.Var), 'objective_function'\n",
    "for i, v in df_costs.groupby('S'):\n",
    "    pl += pulp.lpSum(v.Var) <= supply[i]\n",
    "for j, v in df_costs.groupby('D'):\n",
    "    pl += pulp.lpSum(v.Var) == demand[j]\n",
    "pl"
   ]
  },
  {
   "cell_type": "code",
   "execution_count": 7,
   "metadata": {},
   "outputs": [
    {
     "data": {
      "text/plain": [
       "'Optimal'"
      ]
     },
     "execution_count": 7,
     "metadata": {},
     "output_type": "execute_result"
    }
   ],
   "source": [
    "result = pl.solve()\n",
    "pulp.LpStatus[result]"
   ]
  },
  {
   "cell_type": "code",
   "execution_count": 8,
   "metadata": {},
   "outputs": [
    {
     "data": {
      "text/plain": [
       "2040.0"
      ]
     },
     "execution_count": 8,
     "metadata": {},
     "output_type": "execute_result"
    }
   ],
   "source": [
    "pulp.value(pl.objective)"
   ]
  },
  {
   "cell_type": "code",
   "execution_count": 9,
   "metadata": {},
   "outputs": [
    {
     "name": "stdout",
     "output_type": "stream",
     "text": [
      "x11 = 20.0\n",
      "x12 = 40.0\n",
      "x13 = 0.0\n",
      "x21 = 100.0\n",
      "x22 = 0.0\n",
      "x23 = 80.0\n"
     ]
    }
   ],
   "source": [
    "for v in pl.variables():\n",
    "    print(f\"{v} = {pulp.value(v)}\")"
   ]
  },
  {
   "cell_type": "code",
   "execution_count": 10,
   "metadata": {},
   "outputs": [],
   "source": [
    "# 割り当て問題"
   ]
  },
  {
   "cell_type": "code",
   "execution_count": 11,
   "metadata": {},
   "outputs": [],
   "source": [
    "CSV = io.StringIO(\"\"\"\n",
    "Actor,Role,Score\n",
    "1,1,3\n",
    "1,2,6\n",
    "1,3,9\n",
    "1,4,8\n",
    "2,1,6\n",
    "2,2,3\n",
    "2,3,2\n",
    "2,4,4\n",
    "3,1,9\n",
    "3,2,3\n",
    "3,3,2\n",
    "3,4,5\n",
    "4,1,6\n",
    "4,2,2\n",
    "4,3,3\n",
    "4,4,8\n",
    "\"\"\")\n",
    "df_roles = pd.read_csv(CSV)"
   ]
  },
  {
   "cell_type": "code",
   "execution_count": 12,
   "metadata": {},
   "outputs": [],
   "source": [
    "df_roles['Var'] = [pulp.LpVariable(f'x{i + 1}{j + 1}', cat = pulp.LpBinary) for i, j in itertools.product(range(4), range(4))]"
   ]
  },
  {
   "cell_type": "code",
   "execution_count": 13,
   "metadata": {},
   "outputs": [
    {
     "data": {
      "text/plain": [
       "problem_assign:\n",
       "MAXIMIZE\n",
       "3*x11 + 6*x12 + 9*x13 + 8*x14 + 6*x21 + 3*x22 + 2*x23 + 4*x24 + 9*x31 + 3*x32 + 2*x33 + 5*x34 + 6*x41 + 2*x42 + 3*x43 + 8*x44 + 0\n",
       "SUBJECT TO\n",
       "_C1: x11 + x12 + x13 + x14 = 1\n",
       "\n",
       "_C2: x21 + x22 + x23 + x24 = 1\n",
       "\n",
       "_C3: x31 + x32 + x33 + x34 = 1\n",
       "\n",
       "_C4: x41 + x42 + x43 + x44 = 1\n",
       "\n",
       "_C5: x11 + x21 + x31 + x41 = 1\n",
       "\n",
       "_C6: x12 + x22 + x32 + x42 = 1\n",
       "\n",
       "_C7: x13 + x23 + x33 + x43 = 1\n",
       "\n",
       "_C8: x14 + x24 + x34 + x44 = 1\n",
       "\n",
       "VARIABLES\n",
       "0 <= x11 <= 1 Integer\n",
       "0 <= x12 <= 1 Integer\n",
       "0 <= x13 <= 1 Integer\n",
       "0 <= x14 <= 1 Integer\n",
       "0 <= x21 <= 1 Integer\n",
       "0 <= x22 <= 1 Integer\n",
       "0 <= x23 <= 1 Integer\n",
       "0 <= x24 <= 1 Integer\n",
       "0 <= x31 <= 1 Integer\n",
       "0 <= x32 <= 1 Integer\n",
       "0 <= x33 <= 1 Integer\n",
       "0 <= x34 <= 1 Integer\n",
       "0 <= x41 <= 1 Integer\n",
       "0 <= x42 <= 1 Integer\n",
       "0 <= x43 <= 1 Integer\n",
       "0 <= x44 <= 1 Integer"
      ]
     },
     "execution_count": 13,
     "metadata": {},
     "output_type": "execute_result"
    }
   ],
   "source": [
    "pa = pulp.LpProblem('problem_assign', sense = pulp.LpMaximize)\n",
    "# Varには0-1で値が入るため、スコアとVarの内積＝スコアの総和になる\n",
    "pa += pulp.lpDot(df_roles.Score, df_roles.Var), 'objective_fucntion'\n",
    "for _, v in df_roles.groupby('Actor'):\n",
    "    pa += pulp.lpSum(v.Var) == 1\n",
    "for _, v in df_roles.groupby('Role'):\n",
    "    pa += pulp.lpSum(v.Var) == 1\n",
    "pa"
   ]
  },
  {
   "cell_type": "code",
   "execution_count": 14,
   "metadata": {},
   "outputs": [
    {
     "data": {
      "text/plain": [
       "'Optimal'"
      ]
     },
     "execution_count": 14,
     "metadata": {},
     "output_type": "execute_result"
    }
   ],
   "source": [
    "result = pa.solve()\n",
    "pulp.LpStatus[result]"
   ]
  },
  {
   "cell_type": "code",
   "execution_count": 15,
   "metadata": {},
   "outputs": [
    {
     "data": {
      "text/plain": [
       "29"
      ]
     },
     "execution_count": 15,
     "metadata": {},
     "output_type": "execute_result"
    }
   ],
   "source": [
    " pulp.value(pa.objective)"
   ]
  },
  {
   "cell_type": "code",
   "execution_count": 16,
   "metadata": {},
   "outputs": [
    {
     "name": "stdout",
     "output_type": "stream",
     "text": [
      "x11 = 0\n",
      "x12 = 0\n",
      "x13 = 1\n",
      "x14 = 0\n",
      "x21 = 0\n",
      "x22 = 1\n",
      "x23 = 0\n",
      "x24 = 0\n",
      "x31 = 1\n",
      "x32 = 0\n",
      "x33 = 0\n",
      "x34 = 0\n",
      "x41 = 0\n",
      "x42 = 0\n",
      "x43 = 0\n",
      "x44 = 1\n"
     ]
    }
   ],
   "source": [
    "for v in pa.variables():\n",
    "    print(f\"{v} = {pulp.value(v)}\")"
   ]
  },
  {
   "cell_type": "code",
   "execution_count": 17,
   "metadata": {},
   "outputs": [
    {
     "data": {
      "text/html": [
       "<div>\n",
       "<style scoped>\n",
       "    .dataframe tbody tr th:only-of-type {\n",
       "        vertical-align: middle;\n",
       "    }\n",
       "\n",
       "    .dataframe tbody tr th {\n",
       "        vertical-align: top;\n",
       "    }\n",
       "\n",
       "    .dataframe thead th {\n",
       "        text-align: right;\n",
       "    }\n",
       "</style>\n",
       "<table border=\"1\" class=\"dataframe\">\n",
       "  <thead>\n",
       "    <tr style=\"text-align: right;\">\n",
       "      <th></th>\n",
       "      <th>Actor</th>\n",
       "      <th>Role</th>\n",
       "      <th>Score</th>\n",
       "      <th>Var</th>\n",
       "      <th>Val</th>\n",
       "    </tr>\n",
       "  </thead>\n",
       "  <tbody>\n",
       "    <tr>\n",
       "      <th>2</th>\n",
       "      <td>1</td>\n",
       "      <td>3</td>\n",
       "      <td>9</td>\n",
       "      <td>x13</td>\n",
       "      <td>1</td>\n",
       "    </tr>\n",
       "    <tr>\n",
       "      <th>5</th>\n",
       "      <td>2</td>\n",
       "      <td>2</td>\n",
       "      <td>3</td>\n",
       "      <td>x22</td>\n",
       "      <td>1</td>\n",
       "    </tr>\n",
       "    <tr>\n",
       "      <th>8</th>\n",
       "      <td>3</td>\n",
       "      <td>1</td>\n",
       "      <td>9</td>\n",
       "      <td>x31</td>\n",
       "      <td>1</td>\n",
       "    </tr>\n",
       "    <tr>\n",
       "      <th>15</th>\n",
       "      <td>4</td>\n",
       "      <td>4</td>\n",
       "      <td>8</td>\n",
       "      <td>x44</td>\n",
       "      <td>1</td>\n",
       "    </tr>\n",
       "  </tbody>\n",
       "</table>\n",
       "</div>"
      ],
      "text/plain": [
       "    Actor  Role  Score  Var  Val\n",
       "2       1     3      9  x13    1\n",
       "5       2     2      3  x22    1\n",
       "8       3     1      9  x31    1\n",
       "15      4     4      8  x44    1"
      ]
     },
     "execution_count": 17,
     "metadata": {},
     "output_type": "execute_result"
    }
   ],
   "source": [
    "df_roles['Val'] = df_roles.Var.apply(pulp.value)\n",
    "df_roles[df_roles.Val > 0]"
   ]
  },
  {
   "cell_type": "code",
   "execution_count": 18,
   "metadata": {},
   "outputs": [],
   "source": [
    "# ネットワーク"
   ]
  },
  {
   "cell_type": "code",
   "execution_count": 19,
   "metadata": {},
   "outputs": [],
   "source": [
    "CSV = io.StringIO(\"\"\"\n",
    "i,j,W\n",
    "1,2,1\n",
    "1,3,5\n",
    "2,1,1\n",
    "2,3,2\n",
    "2,4,2\n",
    "3,1,5\n",
    "3,2,4\n",
    "3,5,2\n",
    "4,3,3\n",
    "4,6,3\n",
    "5,3,1\n",
    "5,6,4\n",
    "\"\"\")\n",
    "df_net = pd.read_csv(CSV)"
   ]
  },
  {
   "cell_type": "code",
   "execution_count": 20,
   "metadata": {},
   "outputs": [
    {
     "data": {
      "text/plain": [
       "0     x12\n",
       "1     x13\n",
       "2     x21\n",
       "3     x23\n",
       "4     x24\n",
       "5     x31\n",
       "6     x32\n",
       "7     x35\n",
       "8     x43\n",
       "9     x46\n",
       "10    x53\n",
       "11    x56\n",
       "Name: Var, dtype: object"
      ]
     },
     "execution_count": 20,
     "metadata": {},
     "output_type": "execute_result"
    }
   ],
   "source": [
    "df_net['Var'] = [pulp.LpVariable(f\"x{df_net.i[t]}{df_net.j[t]}\", cat = pulp.LpBinary) for t in df_net.index]\n",
    "df_net['Var']"
   ]
  },
  {
   "cell_type": "code",
   "execution_count": 21,
   "metadata": {},
   "outputs": [
    {
     "data": {
      "text/plain": [
       "problem_network:\n",
       "MINIMIZE\n",
       "1*x12 + 5*x13 + 1*x21 + 2*x23 + 2*x24 + 5*x31 + 4*x32 + 2*x35 + 3*x43 + 3*x46 + 1*x53 + 4*x56 + 0\n",
       "SUBJECT TO\n",
       "start_node: x12 + x13 - x21 - x31 = 1\n",
       "\n",
       "end_node: - x35 + x53 + x56 = -1\n",
       "\n",
       "route_node_2: - x12 + x21 + x23 + x24 - x32 = 0\n",
       "\n",
       "route_node_3: - x13 - x23 + x31 + x32 + x35 - x43 - x53 = 0\n",
       "\n",
       "route_node_4: - x24 + x43 + x46 = 0\n",
       "\n",
       "route_node_6: - x46 - x56 = 0\n",
       "\n",
       "VARIABLES\n",
       "0 <= x12 <= 1 Integer\n",
       "0 <= x13 <= 1 Integer\n",
       "0 <= x21 <= 1 Integer\n",
       "0 <= x23 <= 1 Integer\n",
       "0 <= x24 <= 1 Integer\n",
       "0 <= x31 <= 1 Integer\n",
       "0 <= x32 <= 1 Integer\n",
       "0 <= x35 <= 1 Integer\n",
       "0 <= x43 <= 1 Integer\n",
       "0 <= x46 <= 1 Integer\n",
       "0 <= x53 <= 1 Integer\n",
       "0 <= x56 <= 1 Integer"
      ]
     },
     "execution_count": 21,
     "metadata": {},
     "output_type": "execute_result"
    }
   ],
   "source": [
    "pn = pulp.LpProblem('problem_network', sense = pulp.LpMinimize)\n",
    "pn += pulp.lpDot(df_net.W, df_net.Var), 'objective_function'\n",
    "begin = 1\n",
    "end = 5\n",
    "pn += pulp.lpSum(df_net.Var[df_net.i == begin]) - pulp.lpSum(df_net.Var[df_net.j == begin]) == 1, 'start_node'\n",
    "pn += pulp.lpSum(df_net.Var[df_net.i == end]) - pulp.lpSum(df_net.Var[df_net.j == end]) == -1, 'end_node'\n",
    "for i in set(df_net.i) | set(df_net.j):\n",
    "    if(i != begin and i != end):\n",
    "        pn += pulp.lpSum(df_net.Var[df_net.i == i]) - pulp.lpSum(df_net.Var[df_net.j == i]) == 0, f'route_node_{i}'\n",
    "pn"
   ]
  },
  {
   "cell_type": "code",
   "execution_count": 22,
   "metadata": {},
   "outputs": [
    {
     "data": {
      "text/plain": [
       "'Optimal'"
      ]
     },
     "execution_count": 22,
     "metadata": {},
     "output_type": "execute_result"
    }
   ],
   "source": [
    "result = pn.solve()\n",
    "pulp.LpStatus[result]"
   ]
  },
  {
   "cell_type": "code",
   "execution_count": 23,
   "metadata": {},
   "outputs": [
    {
     "data": {
      "text/plain": [
       "5"
      ]
     },
     "execution_count": 23,
     "metadata": {},
     "output_type": "execute_result"
    }
   ],
   "source": [
    "pulp.value(pn.objective)"
   ]
  },
  {
   "cell_type": "code",
   "execution_count": 24,
   "metadata": {},
   "outputs": [
    {
     "data": {
      "text/html": [
       "<div>\n",
       "<style scoped>\n",
       "    .dataframe tbody tr th:only-of-type {\n",
       "        vertical-align: middle;\n",
       "    }\n",
       "\n",
       "    .dataframe tbody tr th {\n",
       "        vertical-align: top;\n",
       "    }\n",
       "\n",
       "    .dataframe thead th {\n",
       "        text-align: right;\n",
       "    }\n",
       "</style>\n",
       "<table border=\"1\" class=\"dataframe\">\n",
       "  <thead>\n",
       "    <tr style=\"text-align: right;\">\n",
       "      <th></th>\n",
       "      <th>i</th>\n",
       "      <th>j</th>\n",
       "      <th>W</th>\n",
       "      <th>Var</th>\n",
       "    </tr>\n",
       "  </thead>\n",
       "  <tbody>\n",
       "    <tr>\n",
       "      <th>0</th>\n",
       "      <td>1</td>\n",
       "      <td>2</td>\n",
       "      <td>1</td>\n",
       "      <td>x12</td>\n",
       "    </tr>\n",
       "    <tr>\n",
       "      <th>3</th>\n",
       "      <td>2</td>\n",
       "      <td>3</td>\n",
       "      <td>2</td>\n",
       "      <td>x23</td>\n",
       "    </tr>\n",
       "    <tr>\n",
       "      <th>7</th>\n",
       "      <td>3</td>\n",
       "      <td>5</td>\n",
       "      <td>2</td>\n",
       "      <td>x35</td>\n",
       "    </tr>\n",
       "  </tbody>\n",
       "</table>\n",
       "</div>"
      ],
      "text/plain": [
       "   i  j  W  Var\n",
       "0  1  2  1  x12\n",
       "3  2  3  2  x23\n",
       "7  3  5  2  x35"
      ]
     },
     "execution_count": 24,
     "metadata": {},
     "output_type": "execute_result"
    }
   ],
   "source": [
    "df_net[df_net.Var.apply(pulp.value) > 0]"
   ]
  },
  {
   "cell_type": "code",
   "execution_count": 25,
   "metadata": {},
   "outputs": [],
   "source": [
    "# 最大流問題"
   ]
  },
  {
   "cell_type": "code",
   "execution_count": 26,
   "metadata": {},
   "outputs": [],
   "source": [
    "CSV = io.StringIO(\"\"\"\n",
    "i,j,U\n",
    "1,2,4\n",
    "1,3,3\n",
    "2,1,1\n",
    "2,3,4\n",
    "2,5,3\n",
    "3,4,3\n",
    "3,5,2\n",
    "4,5,2\n",
    "5,3,2\n",
    "\"\"\")\n",
    "df_r = pd.read_csv(CSV)"
   ]
  },
  {
   "cell_type": "code",
   "execution_count": 27,
   "metadata": {},
   "outputs": [],
   "source": [
    "# 決定変数は容量制約に従う\n",
    "df_r['Var'] = [pulp.LpVariable(f\"x{df_r.i[i]}{df_r.j[i]}\", lowBound=0, upBound=df_r.U[i]) for i in df_r.index]\n",
    "z = pulp.LpVariable(\"z\")"
   ]
  },
  {
   "cell_type": "code",
   "execution_count": 28,
   "metadata": {},
   "outputs": [
    {
     "data": {
      "text/plain": [
       "problem_route_maximize_flow:\n",
       "MAXIMIZE\n",
       "1*z + 0\n",
       "SUBJECT TO\n",
       "_C1: x12 + x13 - x21 - z = 0\n",
       "\n",
       "_C2: - x12 + x21 + x23 + x25 = 0\n",
       "\n",
       "_C3: - x13 - x23 + x34 + x35 - x53 = 0\n",
       "\n",
       "_C4: - x34 + x45 = 0\n",
       "\n",
       "_C5: - x25 - x35 - x45 + x53 + z = 0\n",
       "\n",
       "VARIABLES\n",
       "x12 <= 4 Continuous\n",
       "x13 <= 3 Continuous\n",
       "x21 <= 1 Continuous\n",
       "x23 <= 4 Continuous\n",
       "x25 <= 3 Continuous\n",
       "x34 <= 3 Continuous\n",
       "x35 <= 2 Continuous\n",
       "x45 <= 2 Continuous\n",
       "x53 <= 2 Continuous\n",
       "z free Continuous"
      ]
     },
     "execution_count": 28,
     "metadata": {},
     "output_type": "execute_result"
    }
   ],
   "source": [
    "pr = pulp.LpProblem('problem_route_maximize_flow', sense = pulp.LpMaximize)\n",
    "pr += z, 'objective_function_sum_of_flow' # Z=始点からの送出量の最大化\n",
    "start_node = 1\n",
    "end_node = 5\n",
    "send_nodes = set(df_r.i)\n",
    "receive_nodes = set(df_r.j)\n",
    "for node in send_nodes | receive_nodes: # 各ノードの流量制約\n",
    "    if node == start_node:\n",
    "        pr += pulp.lpSum(df_r.Var[df_r.i == node]) - pulp.lpSum(df_r.Var[df_r.j == node]) == z # 開始ノードからは総送出量ぶん出ていく\n",
    "    elif node == end_node:\n",
    "        pr += pulp.lpSum(df_r.Var[df_r.i == node]) - pulp.lpSum(df_r.Var[df_r.j == node]) == -z # 終点ノードへは総送出量ぶん入っていく\n",
    "    else:\n",
    "        pr += pulp.lpSum(df_r.Var[df_r.i == node]) - pulp.lpSum(df_r.Var[df_r.j == node]) == 0\n",
    "pr"
   ]
  },
  {
   "cell_type": "code",
   "execution_count": 29,
   "metadata": {},
   "outputs": [
    {
     "data": {
      "text/plain": [
       "'Optimal'"
      ]
     },
     "execution_count": 29,
     "metadata": {},
     "output_type": "execute_result"
    }
   ],
   "source": [
    "result = pr.solve()\n",
    "pulp.LpStatus[result]"
   ]
  },
  {
   "cell_type": "code",
   "execution_count": 30,
   "metadata": {},
   "outputs": [
    {
     "data": {
      "text/plain": [
       "7.0"
      ]
     },
     "execution_count": 30,
     "metadata": {},
     "output_type": "execute_result"
    }
   ],
   "source": [
    "pulp.value(pr.objective)"
   ]
  },
  {
   "cell_type": "code",
   "execution_count": 31,
   "metadata": {},
   "outputs": [
    {
     "data": {
      "text/html": [
       "<div>\n",
       "<style scoped>\n",
       "    .dataframe tbody tr th:only-of-type {\n",
       "        vertical-align: middle;\n",
       "    }\n",
       "\n",
       "    .dataframe tbody tr th {\n",
       "        vertical-align: top;\n",
       "    }\n",
       "\n",
       "    .dataframe thead th {\n",
       "        text-align: right;\n",
       "    }\n",
       "</style>\n",
       "<table border=\"1\" class=\"dataframe\">\n",
       "  <thead>\n",
       "    <tr style=\"text-align: right;\">\n",
       "      <th></th>\n",
       "      <th>i</th>\n",
       "      <th>j</th>\n",
       "      <th>U</th>\n",
       "      <th>Var</th>\n",
       "      <th>Val</th>\n",
       "    </tr>\n",
       "  </thead>\n",
       "  <tbody>\n",
       "    <tr>\n",
       "      <th>0</th>\n",
       "      <td>1</td>\n",
       "      <td>2</td>\n",
       "      <td>4</td>\n",
       "      <td>x12</td>\n",
       "      <td>4.0</td>\n",
       "    </tr>\n",
       "    <tr>\n",
       "      <th>1</th>\n",
       "      <td>1</td>\n",
       "      <td>3</td>\n",
       "      <td>3</td>\n",
       "      <td>x13</td>\n",
       "      <td>3.0</td>\n",
       "    </tr>\n",
       "    <tr>\n",
       "      <th>2</th>\n",
       "      <td>2</td>\n",
       "      <td>1</td>\n",
       "      <td>1</td>\n",
       "      <td>x21</td>\n",
       "      <td>0.0</td>\n",
       "    </tr>\n",
       "    <tr>\n",
       "      <th>3</th>\n",
       "      <td>2</td>\n",
       "      <td>3</td>\n",
       "      <td>4</td>\n",
       "      <td>x23</td>\n",
       "      <td>1.0</td>\n",
       "    </tr>\n",
       "    <tr>\n",
       "      <th>4</th>\n",
       "      <td>2</td>\n",
       "      <td>5</td>\n",
       "      <td>3</td>\n",
       "      <td>x25</td>\n",
       "      <td>3.0</td>\n",
       "    </tr>\n",
       "    <tr>\n",
       "      <th>5</th>\n",
       "      <td>3</td>\n",
       "      <td>4</td>\n",
       "      <td>3</td>\n",
       "      <td>x34</td>\n",
       "      <td>2.0</td>\n",
       "    </tr>\n",
       "    <tr>\n",
       "      <th>6</th>\n",
       "      <td>3</td>\n",
       "      <td>5</td>\n",
       "      <td>2</td>\n",
       "      <td>x35</td>\n",
       "      <td>2.0</td>\n",
       "    </tr>\n",
       "    <tr>\n",
       "      <th>7</th>\n",
       "      <td>4</td>\n",
       "      <td>5</td>\n",
       "      <td>2</td>\n",
       "      <td>x45</td>\n",
       "      <td>2.0</td>\n",
       "    </tr>\n",
       "    <tr>\n",
       "      <th>8</th>\n",
       "      <td>5</td>\n",
       "      <td>3</td>\n",
       "      <td>2</td>\n",
       "      <td>x53</td>\n",
       "      <td>0.0</td>\n",
       "    </tr>\n",
       "  </tbody>\n",
       "</table>\n",
       "</div>"
      ],
      "text/plain": [
       "   i  j  U  Var  Val\n",
       "0  1  2  4  x12  4.0\n",
       "1  1  3  3  x13  3.0\n",
       "2  2  1  1  x21  0.0\n",
       "3  2  3  4  x23  1.0\n",
       "4  2  5  3  x25  3.0\n",
       "5  3  4  3  x34  2.0\n",
       "6  3  5  2  x35  2.0\n",
       "7  4  5  2  x45  2.0\n",
       "8  5  3  2  x53  0.0"
      ]
     },
     "execution_count": 31,
     "metadata": {},
     "output_type": "execute_result"
    }
   ],
   "source": [
    "df_r['Val'] = df_r.Var.apply(pulp.value)\n",
    "df_r"
   ]
  },
  {
   "cell_type": "code",
   "execution_count": 32,
   "metadata": {},
   "outputs": [],
   "source": [
    "# 最小費用流問題"
   ]
  },
  {
   "cell_type": "code",
   "execution_count": 33,
   "metadata": {},
   "outputs": [
    {
     "data": {
      "text/html": [
       "<div>\n",
       "<style scoped>\n",
       "    .dataframe tbody tr th:only-of-type {\n",
       "        vertical-align: middle;\n",
       "    }\n",
       "\n",
       "    .dataframe tbody tr th {\n",
       "        vertical-align: top;\n",
       "    }\n",
       "\n",
       "    .dataframe thead th {\n",
       "        text-align: right;\n",
       "    }\n",
       "</style>\n",
       "<table border=\"1\" class=\"dataframe\">\n",
       "  <thead>\n",
       "    <tr style=\"text-align: right;\">\n",
       "      <th></th>\n",
       "      <th>i</th>\n",
       "      <th>j</th>\n",
       "      <th>C</th>\n",
       "      <th>U</th>\n",
       "    </tr>\n",
       "  </thead>\n",
       "  <tbody>\n",
       "    <tr>\n",
       "      <th>0</th>\n",
       "      <td>1</td>\n",
       "      <td>2</td>\n",
       "      <td>20</td>\n",
       "      <td>30</td>\n",
       "    </tr>\n",
       "    <tr>\n",
       "      <th>1</th>\n",
       "      <td>1</td>\n",
       "      <td>3</td>\n",
       "      <td>10</td>\n",
       "      <td>5</td>\n",
       "    </tr>\n",
       "    <tr>\n",
       "      <th>2</th>\n",
       "      <td>2</td>\n",
       "      <td>3</td>\n",
       "      <td>5</td>\n",
       "      <td>10</td>\n",
       "    </tr>\n",
       "    <tr>\n",
       "      <th>3</th>\n",
       "      <td>2</td>\n",
       "      <td>4</td>\n",
       "      <td>10</td>\n",
       "      <td>20</td>\n",
       "    </tr>\n",
       "    <tr>\n",
       "      <th>4</th>\n",
       "      <td>3</td>\n",
       "      <td>4</td>\n",
       "      <td>20</td>\n",
       "      <td>20</td>\n",
       "    </tr>\n",
       "    <tr>\n",
       "      <th>5</th>\n",
       "      <td>3</td>\n",
       "      <td>5</td>\n",
       "      <td>10</td>\n",
       "      <td>5</td>\n",
       "    </tr>\n",
       "    <tr>\n",
       "      <th>6</th>\n",
       "      <td>4</td>\n",
       "      <td>5</td>\n",
       "      <td>20</td>\n",
       "      <td>10</td>\n",
       "    </tr>\n",
       "  </tbody>\n",
       "</table>\n",
       "</div>"
      ],
      "text/plain": [
       "   i  j   C   U\n",
       "0  1  2  20  30\n",
       "1  1  3  10   5\n",
       "2  2  3   5  10\n",
       "3  2  4  10  20\n",
       "4  3  4  20  20\n",
       "5  3  5  10   5\n",
       "6  4  5  20  10"
      ]
     },
     "execution_count": 33,
     "metadata": {},
     "output_type": "execute_result"
    }
   ],
   "source": [
    "CSV = io.StringIO(\"\"\"\n",
    "i,j,C,U\n",
    "1,2,20,30\n",
    "1,3,10,5\n",
    "2,3,5,10\n",
    "2,4,10,20\n",
    "3,4,20,20\n",
    "3,5,10,5\n",
    "4,5,20,10\n",
    "\"\"\")\n",
    "df_c = pd.read_csv(CSV)\n",
    "df_c"
   ]
  },
  {
   "cell_type": "code",
   "execution_count": 34,
   "metadata": {},
   "outputs": [
    {
     "data": {
      "text/plain": [
       "0    x12\n",
       "1    x13\n",
       "2    x23\n",
       "3    x24\n",
       "4    x34\n",
       "5    x35\n",
       "6    x45\n",
       "Name: Var, dtype: object"
      ]
     },
     "execution_count": 34,
     "metadata": {},
     "output_type": "execute_result"
    }
   ],
   "source": [
    "# 決定変数の容量制約\n",
    "df_c['Var'] = [pulp.LpVariable(f\"x{df_c.i[i]}{df_c.j[i]}\", lowBound=0, upBound=df_c.U[i]) for i in df_c.index]\n",
    "df_c['Var']"
   ]
  },
  {
   "cell_type": "code",
   "execution_count": 35,
   "metadata": {},
   "outputs": [
    {
     "data": {
      "text/plain": [
       "problem_route_minimize_cost:\n",
       "MINIMIZE\n",
       "20*x12 + 10*x13 + 5*x23 + 10*x24 + 20*x34 + 10*x35 + 20*x45 + 0\n",
       "SUBJECT TO\n",
       "_C1: x12 + x13 = 30\n",
       "\n",
       "_C2: - x12 + x23 + x24 = 0\n",
       "\n",
       "_C3: - x13 - x23 + x34 + x35 = 0\n",
       "\n",
       "_C4: - x24 - x34 + x45 = -20\n",
       "\n",
       "_C5: - x35 - x45 = -10\n",
       "\n",
       "VARIABLES\n",
       "x12 <= 30 Continuous\n",
       "x13 <= 5 Continuous\n",
       "x23 <= 10 Continuous\n",
       "x24 <= 20 Continuous\n",
       "x34 <= 20 Continuous\n",
       "x35 <= 5 Continuous\n",
       "x45 <= 10 Continuous"
      ]
     },
     "execution_count": 35,
     "metadata": {},
     "output_type": "execute_result"
    }
   ],
   "source": [
    "pc = pulp.LpProblem('problem_route_minimize_cost', sense = pulp.LpMinimize)\n",
    "pc += pulp.lpDot(df_c.Var, df_c.C), 'objective_function_total_cost'\n",
    "B = {1:30, 2:0, 3:0, 4:-20, 5:-10} # 各ノードの正味供給量\n",
    "nodes = B.keys()\n",
    "for node in nodes:\n",
    "    pc += pulp.lpSum(df_c.Var[df_c.i == node]) - pulp.lpSum(df_c.Var[df_c.j == node]) == B[node] # 各ノードの出入りは、正味供給量に等しい\n",
    "pc"
   ]
  },
  {
   "cell_type": "code",
   "execution_count": 36,
   "metadata": {},
   "outputs": [
    {
     "data": {
      "text/plain": [
       "'Optimal'"
      ]
     },
     "execution_count": 36,
     "metadata": {},
     "output_type": "execute_result"
    }
   ],
   "source": [
    "result = pc.solve()\n",
    "pulp.LpStatus[result]"
   ]
  },
  {
   "cell_type": "code",
   "execution_count": 37,
   "metadata": {},
   "outputs": [
    {
     "data": {
      "text/plain": [
       "1025.0"
      ]
     },
     "execution_count": 37,
     "metadata": {},
     "output_type": "execute_result"
    }
   ],
   "source": [
    "pulp.value(pc.objective)"
   ]
  },
  {
   "cell_type": "code",
   "execution_count": 38,
   "metadata": {},
   "outputs": [
    {
     "data": {
      "text/html": [
       "<div>\n",
       "<style scoped>\n",
       "    .dataframe tbody tr th:only-of-type {\n",
       "        vertical-align: middle;\n",
       "    }\n",
       "\n",
       "    .dataframe tbody tr th {\n",
       "        vertical-align: top;\n",
       "    }\n",
       "\n",
       "    .dataframe thead th {\n",
       "        text-align: right;\n",
       "    }\n",
       "</style>\n",
       "<table border=\"1\" class=\"dataframe\">\n",
       "  <thead>\n",
       "    <tr style=\"text-align: right;\">\n",
       "      <th></th>\n",
       "      <th>i</th>\n",
       "      <th>j</th>\n",
       "      <th>C</th>\n",
       "      <th>U</th>\n",
       "      <th>Var</th>\n",
       "      <th>Val</th>\n",
       "    </tr>\n",
       "  </thead>\n",
       "  <tbody>\n",
       "    <tr>\n",
       "      <th>0</th>\n",
       "      <td>1</td>\n",
       "      <td>2</td>\n",
       "      <td>20</td>\n",
       "      <td>30</td>\n",
       "      <td>x12</td>\n",
       "      <td>25.0</td>\n",
       "    </tr>\n",
       "    <tr>\n",
       "      <th>1</th>\n",
       "      <td>1</td>\n",
       "      <td>3</td>\n",
       "      <td>10</td>\n",
       "      <td>5</td>\n",
       "      <td>x13</td>\n",
       "      <td>5.0</td>\n",
       "    </tr>\n",
       "    <tr>\n",
       "      <th>2</th>\n",
       "      <td>2</td>\n",
       "      <td>3</td>\n",
       "      <td>5</td>\n",
       "      <td>10</td>\n",
       "      <td>x23</td>\n",
       "      <td>5.0</td>\n",
       "    </tr>\n",
       "    <tr>\n",
       "      <th>3</th>\n",
       "      <td>2</td>\n",
       "      <td>4</td>\n",
       "      <td>10</td>\n",
       "      <td>20</td>\n",
       "      <td>x24</td>\n",
       "      <td>20.0</td>\n",
       "    </tr>\n",
       "    <tr>\n",
       "      <th>4</th>\n",
       "      <td>3</td>\n",
       "      <td>4</td>\n",
       "      <td>20</td>\n",
       "      <td>20</td>\n",
       "      <td>x34</td>\n",
       "      <td>5.0</td>\n",
       "    </tr>\n",
       "    <tr>\n",
       "      <th>5</th>\n",
       "      <td>3</td>\n",
       "      <td>5</td>\n",
       "      <td>10</td>\n",
       "      <td>5</td>\n",
       "      <td>x35</td>\n",
       "      <td>5.0</td>\n",
       "    </tr>\n",
       "    <tr>\n",
       "      <th>6</th>\n",
       "      <td>4</td>\n",
       "      <td>5</td>\n",
       "      <td>20</td>\n",
       "      <td>10</td>\n",
       "      <td>x45</td>\n",
       "      <td>5.0</td>\n",
       "    </tr>\n",
       "  </tbody>\n",
       "</table>\n",
       "</div>"
      ],
      "text/plain": [
       "   i  j   C   U  Var   Val\n",
       "0  1  2  20  30  x12  25.0\n",
       "1  1  3  10   5  x13   5.0\n",
       "2  2  3   5  10  x23   5.0\n",
       "3  2  4  10  20  x24  20.0\n",
       "4  3  4  20  20  x34   5.0\n",
       "5  3  5  10   5  x35   5.0\n",
       "6  4  5  20  10  x45   5.0"
      ]
     },
     "execution_count": 38,
     "metadata": {},
     "output_type": "execute_result"
    }
   ],
   "source": [
    "df_c['Val'] = df_c.Var.apply(pulp.value)\n",
    "df_c"
   ]
  },
  {
   "cell_type": "code",
   "execution_count": 39,
   "metadata": {},
   "outputs": [],
   "source": [
    "# 最小値"
   ]
  },
  {
   "cell_type": "code",
   "execution_count": 65,
   "metadata": {},
   "outputs": [
    {
     "data": {
      "text/html": [
       "<div>\n",
       "<style scoped>\n",
       "    .dataframe tbody tr th:only-of-type {\n",
       "        vertical-align: middle;\n",
       "    }\n",
       "\n",
       "    .dataframe tbody tr th {\n",
       "        vertical-align: top;\n",
       "    }\n",
       "\n",
       "    .dataframe thead th {\n",
       "        text-align: right;\n",
       "    }\n",
       "</style>\n",
       "<table border=\"1\" class=\"dataframe\">\n",
       "  <thead>\n",
       "    <tr style=\"text-align: right;\">\n",
       "      <th></th>\n",
       "      <th>g</th>\n",
       "      <th>a</th>\n",
       "      <th>e</th>\n",
       "      <th>c</th>\n",
       "    </tr>\n",
       "  </thead>\n",
       "  <tbody>\n",
       "    <tr>\n",
       "      <th>0</th>\n",
       "      <td>5</td>\n",
       "      <td>4</td>\n",
       "      <td>0</td>\n",
       "      <td>3</td>\n",
       "    </tr>\n",
       "    <tr>\n",
       "      <th>1</th>\n",
       "      <td>2</td>\n",
       "      <td>0</td>\n",
       "      <td>0</td>\n",
       "      <td>3</td>\n",
       "    </tr>\n",
       "    <tr>\n",
       "      <th>2</th>\n",
       "      <td>0</td>\n",
       "      <td>5</td>\n",
       "      <td>4</td>\n",
       "      <td>5</td>\n",
       "    </tr>\n",
       "    <tr>\n",
       "      <th>3</th>\n",
       "      <td>5</td>\n",
       "      <td>4</td>\n",
       "      <td>4</td>\n",
       "      <td>3</td>\n",
       "    </tr>\n",
       "  </tbody>\n",
       "</table>\n",
       "</div>"
      ],
      "text/plain": [
       "   g  a  e  c\n",
       "0  5  4  0  3\n",
       "1  2  0  0  3\n",
       "2  0  5  4  5\n",
       "3  5  4  4  3"
      ]
     },
     "execution_count": 65,
     "metadata": {},
     "output_type": "execute_result"
    }
   ],
   "source": [
    "CSV = io.StringIO(\"\"\"\n",
    "g,a,e,c\n",
    "5,4,0,3\n",
    "2,0,0,3\n",
    "0,5,4,5\n",
    "5,4,4,3\n",
    "\"\"\")\n",
    "df = pd.read_csv(CSV)\n",
    "df"
   ]
  },
  {
   "cell_type": "code",
   "execution_count": 137,
   "metadata": {},
   "outputs": [
    {
     "data": {
      "text/plain": [
       "g    2\n",
       "a    0\n",
       "e    0\n",
       "c    3\n",
       "Name: 1, dtype: int64"
      ]
     },
     "execution_count": 137,
     "metadata": {},
     "output_type": "execute_result"
    }
   ],
   "source": [
    "vars = [pulp.LpVariable(f\"x{i}-{j}\", cat = pulp.LpBinary) for i in df.index for j in df.columns]\n",
    "t = pulp.LpVariable(f\"t\")\n",
    "columns = len(df.columns)\n",
    "rows = len(df.index)"
   ]
  },
  {
   "cell_type": "code",
   "execution_count": 140,
   "metadata": {},
   "outputs": [],
   "source": [
    "p = pulp.LpProblem(\"min\", sense = pulp.LpMaximize)\n",
    "p += t, \"objective function\"\n",
    "for i in range(rows):\n",
    "    p += pulp.lpSum([vars[i*columns + j] for j in range(columns) if df.iloc[i, j] != 0]) == 1\n",
    "for j in range(columns):\n",
    "    p += pulp.lpSum([vars[i*columns + j] for i in range(rows) if df.iloc[i, j] != 0]) == 1\n",
    "for i in range(rows):\n",
    "    p += t <= pulp.lpDot(vars[i*columns:i*columns+columns], df.iloc[i, :])"
   ]
  },
  {
   "cell_type": "code",
   "execution_count": 142,
   "metadata": {},
   "outputs": [
    {
     "data": {
      "text/plain": [
       "'Optimal'"
      ]
     },
     "execution_count": 142,
     "metadata": {},
     "output_type": "execute_result"
    }
   ],
   "source": [
    "result = p.solve()\n",
    "pulp.LpStatus[result]"
   ]
  },
  {
   "cell_type": "code",
   "execution_count": 149,
   "metadata": {},
   "outputs": [
    {
     "name": "stdout",
     "output_type": "stream",
     "text": [
      "1\n",
      "0\n",
      "None\n",
      "0\n",
      "0\n",
      "None\n",
      "None\n",
      "1\n",
      "None\n",
      "0\n",
      "1\n",
      "0\n",
      "0\n",
      "1\n",
      "0\n",
      "0\n"
     ]
    }
   ],
   "source": [
    "for v in vars:\n",
    "    print(pulp.value(v))"
   ]
  },
  {
   "cell_type": "code",
   "execution_count": null,
   "metadata": {},
   "outputs": [],
   "source": []
  }
 ],
 "metadata": {
  "kernelspec": {
   "display_name": "Python 3",
   "language": "python",
   "name": "python3"
  },
  "language_info": {
   "codemirror_mode": {
    "name": "ipython",
    "version": 3
   },
   "file_extension": ".py",
   "mimetype": "text/x-python",
   "name": "python",
   "nbconvert_exporter": "python",
   "pygments_lexer": "ipython3",
   "version": "3.8.3"
  }
 },
 "nbformat": 4,
 "nbformat_minor": 4
}
