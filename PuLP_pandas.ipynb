{
 "cells": [
  {
   "cell_type": "code",
   "execution_count": 19,
   "metadata": {},
   "outputs": [],
   "source": [
    "import pulp\n",
    "import pandas as pd\n",
    "import io\n",
    "import itertools"
   ]
  },
  {
   "cell_type": "code",
   "execution_count": 5,
   "metadata": {},
   "outputs": [],
   "source": [
    "# 輸送問題"
   ]
  },
  {
   "cell_type": "code",
   "execution_count": 44,
   "metadata": {},
   "outputs": [],
   "source": [
    "supply = {1:100, 2:180}\n",
    "demand = {1:120, 2:40, 3:80}\n",
    "\n",
    "COSTS = io.StringIO(\"\"\"\n",
    "S,D,C\n",
    "1,1,10\n",
    "1,2,6\n",
    "1,3,16\n",
    "2,1,8\n",
    "2,2,8\n",
    "2,3,10\n",
    "\"\"\")\n",
    "df_costs = pd.read_csv(COSTS)"
   ]
  },
  {
   "cell_type": "code",
   "execution_count": 45,
   "metadata": {},
   "outputs": [],
   "source": [
    "df_costs['Var'] = [pulp.LpVariable(f'x{i}{j}', 0) for i, j in itertools.product(supply.keys(), demand.keys())]"
   ]
  },
  {
   "cell_type": "code",
   "execution_count": 46,
   "metadata": {},
   "outputs": [
    {
     "data": {
      "text/html": [
       "<div>\n",
       "<style scoped>\n",
       "    .dataframe tbody tr th:only-of-type {\n",
       "        vertical-align: middle;\n",
       "    }\n",
       "\n",
       "    .dataframe tbody tr th {\n",
       "        vertical-align: top;\n",
       "    }\n",
       "\n",
       "    .dataframe thead th {\n",
       "        text-align: right;\n",
       "    }\n",
       "</style>\n",
       "<table border=\"1\" class=\"dataframe\">\n",
       "  <thead>\n",
       "    <tr style=\"text-align: right;\">\n",
       "      <th></th>\n",
       "      <th>S</th>\n",
       "      <th>D</th>\n",
       "      <th>C</th>\n",
       "      <th>Var</th>\n",
       "    </tr>\n",
       "  </thead>\n",
       "  <tbody>\n",
       "    <tr>\n",
       "      <th>0</th>\n",
       "      <td>1</td>\n",
       "      <td>1</td>\n",
       "      <td>10</td>\n",
       "      <td>x11</td>\n",
       "    </tr>\n",
       "    <tr>\n",
       "      <th>1</th>\n",
       "      <td>1</td>\n",
       "      <td>2</td>\n",
       "      <td>6</td>\n",
       "      <td>x12</td>\n",
       "    </tr>\n",
       "    <tr>\n",
       "      <th>2</th>\n",
       "      <td>1</td>\n",
       "      <td>3</td>\n",
       "      <td>16</td>\n",
       "      <td>x13</td>\n",
       "    </tr>\n",
       "    <tr>\n",
       "      <th>3</th>\n",
       "      <td>2</td>\n",
       "      <td>1</td>\n",
       "      <td>8</td>\n",
       "      <td>x21</td>\n",
       "    </tr>\n",
       "    <tr>\n",
       "      <th>4</th>\n",
       "      <td>2</td>\n",
       "      <td>2</td>\n",
       "      <td>8</td>\n",
       "      <td>x22</td>\n",
       "    </tr>\n",
       "    <tr>\n",
       "      <th>5</th>\n",
       "      <td>2</td>\n",
       "      <td>3</td>\n",
       "      <td>10</td>\n",
       "      <td>x23</td>\n",
       "    </tr>\n",
       "  </tbody>\n",
       "</table>\n",
       "</div>"
      ],
      "text/plain": [
       "   S  D   C  Var\n",
       "0  1  1  10  x11\n",
       "1  1  2   6  x12\n",
       "2  1  3  16  x13\n",
       "3  2  1   8  x21\n",
       "4  2  2   8  x22\n",
       "5  2  3  10  x23"
      ]
     },
     "execution_count": 46,
     "metadata": {},
     "output_type": "execute_result"
    }
   ],
   "source": [
    "df_costs"
   ]
  },
  {
   "cell_type": "code",
   "execution_count": 50,
   "metadata": {},
   "outputs": [
    {
     "data": {
      "text/plain": [
       "problem_logistics:\n",
       "MINIMIZE\n",
       "10*x11 + 6*x12 + 16*x13 + 8*x21 + 8*x22 + 10*x23 + 0\n",
       "SUBJECT TO\n",
       "_C1: x11 + x12 + x13 <= 100\n",
       "\n",
       "_C2: x21 + x22 + x23 <= 180\n",
       "\n",
       "_C3: x11 + x21 = 120\n",
       "\n",
       "_C4: x12 + x22 = 40\n",
       "\n",
       "_C5: x13 + x23 = 80\n",
       "\n",
       "VARIABLES\n",
       "x11 Continuous\n",
       "x12 Continuous\n",
       "x13 Continuous\n",
       "x21 Continuous\n",
       "x22 Continuous\n",
       "x23 Continuous"
      ]
     },
     "execution_count": 50,
     "metadata": {},
     "output_type": "execute_result"
    }
   ],
   "source": [
    "pl = pulp.LpProblem('problem_logistics')\n",
    "pl += pulp.lpDot(df_costs.C, df_costs.Var), 'objective_function'\n",
    "for i, v in df_costs.groupby('S'):\n",
    "    pl += pulp.lpSum(v.Var) <= supply[i]\n",
    "for j, v in df_costs.groupby('D'):\n",
    "    pl += pulp.lpSum(v.Var) == demand[j]\n",
    "pl"
   ]
  },
  {
   "cell_type": "code",
   "execution_count": 51,
   "metadata": {},
   "outputs": [
    {
     "data": {
      "text/plain": [
       "'Optimal'"
      ]
     },
     "execution_count": 51,
     "metadata": {},
     "output_type": "execute_result"
    }
   ],
   "source": [
    "result = pl.solve()\n",
    "pulp.LpStatus[result]"
   ]
  },
  {
   "cell_type": "code",
   "execution_count": 52,
   "metadata": {},
   "outputs": [
    {
     "data": {
      "text/plain": [
       "2040.0"
      ]
     },
     "execution_count": 52,
     "metadata": {},
     "output_type": "execute_result"
    }
   ],
   "source": [
    "pulp.value(pl.objective)"
   ]
  },
  {
   "cell_type": "code",
   "execution_count": 53,
   "metadata": {},
   "outputs": [
    {
     "name": "stdout",
     "output_type": "stream",
     "text": [
      "x11 = 20.0\n",
      "x12 = 40.0\n",
      "x13 = 0.0\n",
      "x21 = 100.0\n",
      "x22 = 0.0\n",
      "x23 = 80.0\n"
     ]
    }
   ],
   "source": [
    "for v in pl.variables():\n",
    "    print(f\"{v} = {pulp.value(v)}\")"
   ]
  },
  {
   "cell_type": "code",
   "execution_count": 54,
   "metadata": {},
   "outputs": [],
   "source": [
    "# 割り当て問題"
   ]
  },
  {
   "cell_type": "code",
   "execution_count": 55,
   "metadata": {},
   "outputs": [],
   "source": [
    "CSV = io.StringIO(\"\"\"\n",
    "Actor,Role,Score\n",
    "1,1,3\n",
    "1,2,6\n",
    "1,3,9\n",
    "1,4,8\n",
    "2,1,6\n",
    "2,2,3\n",
    "2,3,2\n",
    "2,4,4\n",
    "3,1,9\n",
    "3,2,3\n",
    "3,3,2\n",
    "3,4,5\n",
    "4,1,6\n",
    "4,2,2\n",
    "4,3,3\n",
    "4,4,8\n",
    "\"\"\")\n",
    "df_roles = pd.read_csv(CSV)"
   ]
  },
  {
   "cell_type": "code",
   "execution_count": 62,
   "metadata": {},
   "outputs": [],
   "source": [
    "df_roles['Var'] = [pulp.LpVariable(f'x{i + 1}{j + 1}', cat = pulp.LpBinary) for i, j in itertools.product(range(4), range(4))]"
   ]
  },
  {
   "cell_type": "code",
   "execution_count": 72,
   "metadata": {},
   "outputs": [
    {
     "data": {
      "text/plain": [
       "problem_assign:\n",
       "MAXIMIZE\n",
       "3*x11 + 6*x12 + 9*x13 + 8*x14 + 6*x21 + 3*x22 + 2*x23 + 4*x24 + 9*x31 + 3*x32 + 2*x33 + 5*x34 + 6*x41 + 2*x42 + 3*x43 + 8*x44 + 0\n",
       "SUBJECT TO\n",
       "_C1: x11 + x12 + x13 + x14 = 1\n",
       "\n",
       "_C2: x21 + x22 + x23 + x24 = 1\n",
       "\n",
       "_C3: x31 + x32 + x33 + x34 = 1\n",
       "\n",
       "_C4: x41 + x42 + x43 + x44 = 1\n",
       "\n",
       "_C5: x11 + x21 + x31 + x41 = 1\n",
       "\n",
       "_C6: x12 + x22 + x32 + x42 = 1\n",
       "\n",
       "_C7: x13 + x23 + x33 + x43 = 1\n",
       "\n",
       "_C8: x14 + x24 + x34 + x44 = 1\n",
       "\n",
       "VARIABLES\n",
       "0 <= x11 <= 1 Integer\n",
       "0 <= x12 <= 1 Integer\n",
       "0 <= x13 <= 1 Integer\n",
       "0 <= x14 <= 1 Integer\n",
       "0 <= x21 <= 1 Integer\n",
       "0 <= x22 <= 1 Integer\n",
       "0 <= x23 <= 1 Integer\n",
       "0 <= x24 <= 1 Integer\n",
       "0 <= x31 <= 1 Integer\n",
       "0 <= x32 <= 1 Integer\n",
       "0 <= x33 <= 1 Integer\n",
       "0 <= x34 <= 1 Integer\n",
       "0 <= x41 <= 1 Integer\n",
       "0 <= x42 <= 1 Integer\n",
       "0 <= x43 <= 1 Integer\n",
       "0 <= x44 <= 1 Integer"
      ]
     },
     "execution_count": 72,
     "metadata": {},
     "output_type": "execute_result"
    }
   ],
   "source": [
    "pa = pulp.LpProblem('problem_assign', sense = pulp.LpMaximize)\n",
    "# Varには0-1で値が入るため、スコアとVarの内積＝スコアの総和になる\n",
    "pa += pulp.lpDot(df_roles.Score, df_roles.Var), 'objective_fucntion'\n",
    "for _, v in df_roles.groupby('Actor'):\n",
    "    pa += pulp.lpSum(v.Var) == 1\n",
    "for _, v in df_roles.groupby('Role'):\n",
    "    pa += pulp.lpSum(v.Var) == 1\n",
    "pa"
   ]
  },
  {
   "cell_type": "code",
   "execution_count": 73,
   "metadata": {},
   "outputs": [
    {
     "data": {
      "text/plain": [
       "'Optimal'"
      ]
     },
     "execution_count": 73,
     "metadata": {},
     "output_type": "execute_result"
    }
   ],
   "source": [
    "result = pa.solve()\n",
    "pulp.LpStatus[result]"
   ]
  },
  {
   "cell_type": "code",
   "execution_count": 74,
   "metadata": {},
   "outputs": [
    {
     "data": {
      "text/plain": [
       "29"
      ]
     },
     "execution_count": 74,
     "metadata": {},
     "output_type": "execute_result"
    }
   ],
   "source": [
    " pulp.value(pa.objective)"
   ]
  },
  {
   "cell_type": "code",
   "execution_count": 75,
   "metadata": {},
   "outputs": [
    {
     "name": "stdout",
     "output_type": "stream",
     "text": [
      "x11 = 0\n",
      "x12 = 0\n",
      "x13 = 1\n",
      "x14 = 0\n",
      "x21 = 0\n",
      "x22 = 1\n",
      "x23 = 0\n",
      "x24 = 0\n",
      "x31 = 1\n",
      "x32 = 0\n",
      "x33 = 0\n",
      "x34 = 0\n",
      "x41 = 0\n",
      "x42 = 0\n",
      "x43 = 0\n",
      "x44 = 1\n"
     ]
    }
   ],
   "source": [
    "for v in pa.variables():\n",
    "    print(f\"{v} = {pulp.value(v)}\")"
   ]
  },
  {
   "cell_type": "code",
   "execution_count": 70,
   "metadata": {},
   "outputs": [
    {
     "data": {
      "text/html": [
       "<div>\n",
       "<style scoped>\n",
       "    .dataframe tbody tr th:only-of-type {\n",
       "        vertical-align: middle;\n",
       "    }\n",
       "\n",
       "    .dataframe tbody tr th {\n",
       "        vertical-align: top;\n",
       "    }\n",
       "\n",
       "    .dataframe thead th {\n",
       "        text-align: right;\n",
       "    }\n",
       "</style>\n",
       "<table border=\"1\" class=\"dataframe\">\n",
       "  <thead>\n",
       "    <tr style=\"text-align: right;\">\n",
       "      <th></th>\n",
       "      <th>Actor</th>\n",
       "      <th>Role</th>\n",
       "      <th>Score</th>\n",
       "      <th>Var</th>\n",
       "      <th>Val</th>\n",
       "    </tr>\n",
       "  </thead>\n",
       "  <tbody>\n",
       "    <tr>\n",
       "      <th>0</th>\n",
       "      <td>1</td>\n",
       "      <td>1</td>\n",
       "      <td>3</td>\n",
       "      <td>x11</td>\n",
       "      <td>1</td>\n",
       "    </tr>\n",
       "    <tr>\n",
       "      <th>7</th>\n",
       "      <td>2</td>\n",
       "      <td>4</td>\n",
       "      <td>4</td>\n",
       "      <td>x24</td>\n",
       "      <td>1</td>\n",
       "    </tr>\n",
       "    <tr>\n",
       "      <th>10</th>\n",
       "      <td>3</td>\n",
       "      <td>3</td>\n",
       "      <td>2</td>\n",
       "      <td>x33</td>\n",
       "      <td>1</td>\n",
       "    </tr>\n",
       "    <tr>\n",
       "      <th>13</th>\n",
       "      <td>4</td>\n",
       "      <td>2</td>\n",
       "      <td>2</td>\n",
       "      <td>x42</td>\n",
       "      <td>1</td>\n",
       "    </tr>\n",
       "  </tbody>\n",
       "</table>\n",
       "</div>"
      ],
      "text/plain": [
       "    Actor  Role  Score  Var  Val\n",
       "0       1     1      3  x11    1\n",
       "7       2     4      4  x24    1\n",
       "10      3     3      2  x33    1\n",
       "13      4     2      2  x42    1"
      ]
     },
     "execution_count": 70,
     "metadata": {},
     "output_type": "execute_result"
    }
   ],
   "source": [
    "df_roles['Val'] = df_roles.Var.apply(pulp.value)\n",
    "df_roles[df_roles.Val > 0]"
   ]
  },
  {
   "cell_type": "code",
   "execution_count": null,
   "metadata": {},
   "outputs": [],
   "source": []
  }
 ],
 "metadata": {
  "kernelspec": {
   "display_name": "Python 3",
   "language": "python",
   "name": "python3"
  },
  "language_info": {
   "codemirror_mode": {
    "name": "ipython",
    "version": 3
   },
   "file_extension": ".py",
   "mimetype": "text/x-python",
   "name": "python",
   "nbconvert_exporter": "python",
   "pygments_lexer": "ipython3",
   "version": "3.8.3"
  }
 },
 "nbformat": 4,
 "nbformat_minor": 4
}
