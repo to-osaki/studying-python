{
 "cells": [
  {
   "cell_type": "code",
   "execution_count": null,
   "metadata": {},
   "outputs": [],
   "source": [
    "import cv2\n",
    "import matplotlib.pyplot as plt\n",
    "import numpy as np"
   ]
  },
  {
   "cell_type": "code",
   "execution_count": null,
   "metadata": {},
   "outputs": [],
   "source": [
    "img = cv2.imread(\"./res/P1030312.jpg\")\n",
    "plt.imshow(img)"
   ]
  },
  {
   "cell_type": "code",
   "execution_count": null,
   "metadata": {},
   "outputs": [],
   "source": [
    "blur = cv2.blur(img, (5, 5))\n",
    "plt.imshow(blur)"
   ]
  },
  {
   "cell_type": "code",
   "execution_count": null,
   "metadata": {},
   "outputs": [],
   "source": [
    "filter = np.ones((5, 5)) / (5 * 5)\n",
    "plt.imshow(cv2.filter2D(img, -1, filter))"
   ]
  },
  {
   "cell_type": "code",
   "execution_count": null,
   "metadata": {},
   "outputs": [],
   "source": [
    "filter = np.eye(10) / 10\n",
    "plt.imshow(cv2.filter2D(img, -1, filter))"
   ]
  },
  {
   "cell_type": "code",
   "execution_count": null,
   "metadata": {},
   "outputs": [],
   "source": [
    "# 微分フィルタ\n",
    "filter = np.array([0, 0, 0, 0, 1, 0, 0, -1, 0]).reshape(3, 3)\n",
    "plt.imshow(cv2.filter2D(img, -1, filter))"
   ]
  },
  {
   "cell_type": "code",
   "execution_count": null,
   "metadata": {},
   "outputs": [],
   "source": [
    "# プリューウィットフィルタ(微分＋平滑化)\n",
    "filter = np.array([1, 1, 1, 0, 0, 0, -1, -1, -1]).reshape(3, 3)  / 6\n",
    "plt.imshow(cv2.filter2D(img, -1, filter))\n",
    "cv2."
   ]
  },
  {
   "cell_type": "code",
   "execution_count": null,
   "metadata": {},
   "outputs": [],
   "source": [
    "# ソーベルフィルタ(微分＋平滑化)\n",
    "filter = np.array([1, 2, 1, 0, 0, 0, -1, -2, -1]).reshape(3, 3) / 8\n",
    "plt.imshow(cv2.filter2D(img, -1, filter))\n",
    "# plt.imshow(cv2.convertScaleAbs(cv2.Sobel(img, cv2.CV_8U, 0, 1, 3)))"
   ]
  },
  {
   "cell_type": "code",
   "execution_count": null,
   "metadata": {},
   "outputs": [],
   "source": [
    "# ラプラシアンフィルタ(２階微分)\n",
    "filter = np.array([0, 1, 0, 1, -4, 1, 0, 1, 0]).reshape(3, 3)\n",
    "plt.imshow(cv2.filter2D(img, -1, filter))\n",
    "# plt.imshow(cv2.convertScaleAbs(cv2.Laplacian(img, -1, filter)))"
   ]
  },
  {
   "cell_type": "code",
   "execution_count": null,
   "metadata": {},
   "outputs": [],
   "source": [
    "# 入力と平滑化の差分\n",
    "filter = (np.ones(9) * -1/9).reshape(3, 3)\n",
    "filter[1, 1] += 1\n",
    "# plt.imshow(cv2.filter2D(img, -1, filter))\n",
    "\n",
    "# 先鋭化フィルタ（入力と平滑化の差分に入力を足す）\n",
    "filter = np.array([-1, -1, -1, -1, 9, -1, -1, -1, -1]).reshape(3, 3)\n",
    "plt.imshow(cv2.filter2D(img, -1, filter))"
   ]
  },
  {
   "cell_type": "code",
   "execution_count": null,
   "metadata": {},
   "outputs": [],
   "source": [
    "# plt.imshow(cv2.GaussianBlur(img, (11, 11), 1))\n",
    "plt.imshow(cv2.bilateralFilter(img, 11, 50, 100))"
   ]
  },
  {
   "cell_type": "code",
   "execution_count": null,
   "metadata": {},
   "outputs": [],
   "source": [
    "img_gray = cv2.cvtColor(img, cv2.COLOR_BGR2GRAY)\n",
    "plt.imshow(img_gray, cmap = \"gray\")"
   ]
  },
  {
   "cell_type": "code",
   "execution_count": null,
   "metadata": {},
   "outputs": [],
   "source": [
    "_, img_mask = cv2.threshold(img_gray, 128, 255, cv2.THRESH_BINARY_INV)\n",
    "plt.imshow(img_mask, cmap = \"gray\")"
   ]
  },
  {
   "cell_type": "code",
   "execution_count": null,
   "metadata": {},
   "outputs": [],
   "source": [
    "plt.imshow(cv2.bitwise_and(img_gray, img_gray, mask = img_mask), cmap = \"gray\")"
   ]
  },
  {
   "cell_type": "code",
   "execution_count": null,
   "metadata": {},
   "outputs": [],
   "source": [
    "elem4 = np.array([[0, 1, 0], [1, 1, 1], [0, 1, 0]], np.uint8)\n",
    "#plt.imshow(cv2.erode(img_mask, elem4, iterations = 3))\n",
    "#plt.imshow(cv2.dilate(img_mask, elem4, iterations = 3))\n",
    "img_mask_ = cv2.morphologyEx(img_mask, cv2.MORPH_GRADIENT, elem4, iterations = 3)\n",
    "plt.imshow(img_mask_)"
   ]
  },
  {
   "cell_type": "code",
   "execution_count": null,
   "metadata": {},
   "outputs": [],
   "source": [
    "plt.imshow(cv2.bitwise_and(img, img, mask = img_mask_), cmap = \"gray\")"
   ]
  },
  {
   "cell_type": "code",
   "execution_count": null,
   "metadata": {},
   "outputs": [],
   "source": []
  }
 ],
 "metadata": {
  "kernelspec": {
   "display_name": "Python 3",
   "language": "python",
   "name": "python3"
  },
  "language_info": {
   "codemirror_mode": {
    "name": "ipython",
    "version": 3
   },
   "file_extension": ".py",
   "mimetype": "text/x-python",
   "name": "python",
   "nbconvert_exporter": "python",
   "pygments_lexer": "ipython3",
   "version": "3.8.3"
  }
 },
 "nbformat": 4,
 "nbformat_minor": 4
}
