{
 "cells": [
  {
   "cell_type": "code",
   "execution_count": null,
   "metadata": {},
   "outputs": [],
   "source": [
    "import cv2\n",
    "import matplotlib.pyplot as plt"
   ]
  },
  {
   "cell_type": "code",
   "execution_count": null,
   "metadata": {},
   "outputs": [],
   "source": [
    "img = cv2.imread(\"./res/P1030312.jpg\")\n",
    "plt.imshow(img)"
   ]
  },
  {
   "cell_type": "code",
   "execution_count": null,
   "metadata": {},
   "outputs": [],
   "source": [
    "blur = cv2.blur(img, (5, 5))\n",
    "plt.imshow(blur)"
   ]
  },
  {
   "cell_type": "code",
   "execution_count": null,
   "metadata": {},
   "outputs": [],
   "source": [
    "import numpy as np\n",
    "from scipy import signal\n",
    "\n",
    "img = np.array(cv2.imread(\"./res/P1030312.jpg\"))"
   ]
  },
  {
   "cell_type": "code",
   "execution_count": null,
   "metadata": {},
   "outputs": [],
   "source": [
    "filter = np.ones((5, 5)) / (5 * 5)\n",
    "plt.imshow(cv2.filter2D(img, -1, filter))"
   ]
  },
  {
   "cell_type": "code",
   "execution_count": null,
   "metadata": {},
   "outputs": [],
   "source": [
    "filter = np.eye(10) / 10\n",
    "plt.imshow(cv2.filter2D(img, -1, filter))"
   ]
  },
  {
   "cell_type": "code",
   "execution_count": null,
   "metadata": {},
   "outputs": [],
   "source": [
    "# 微分フィルタ\n",
    "filter = np.array([0, 0, 0, 0, 1, 0, 0, -1, 0]).reshape(3, 3)\n",
    "plt.imshow(cv2.filter2D(img, -1, filter))"
   ]
  },
  {
   "cell_type": "code",
   "execution_count": null,
   "metadata": {},
   "outputs": [],
   "source": [
    "# プリューウィットフィルタ(微分＋平滑化)\n",
    "filter = np.array([1, 1, 1, 0, 0, 0, -1, -1, -1]).reshape(3, 3)  / 6\n",
    "plt.imshow(cv2.filter2D(img, -1, filter))"
   ]
  },
  {
   "cell_type": "code",
   "execution_count": null,
   "metadata": {},
   "outputs": [],
   "source": [
    "# ソーベルフィルタ(微分＋平滑化)\n",
    "filter = np.array([1, 2, 1, 0, 0, 0, -1, -2, -1]).reshape(3, 3) / 8\n",
    "plt.imshow(cv2.filter2D(img, -1, filter))"
   ]
  },
  {
   "cell_type": "code",
   "execution_count": null,
   "metadata": {},
   "outputs": [],
   "source": [
    "# ラプラシアンフィルタ(２階微分)\n",
    "filter = np.array([0, 1, 0, 1, -4, 1, 0, 1, 0]).reshape(3, 3)\n",
    "plt.imshow(cv2.filter2D(img, -1, filter))"
   ]
  },
  {
   "cell_type": "code",
   "execution_count": null,
   "metadata": {},
   "outputs": [],
   "source": [
    "# 入力と平滑化の差分\n",
    "filter = (np.ones(9) * -1/9).reshape(3, 3)\n",
    "filter[1, 1] += 1\n",
    "# plt.imshow(cv2.filter2D(img, -1, filter))\n",
    "\n",
    "# 先鋭化フィルタ（入力と平滑化の差分に入力を足す）\n",
    "filter = np.array([-1, -1, -1, -1, 9, -1, -1, -1, -1]).reshape(3, 3)\n",
    "plt.imshow(cv2.filter2D(img, -1, filter))"
   ]
  }
 ],
 "metadata": {
  "kernelspec": {
   "display_name": "Python 3",
   "language": "python",
   "name": "python3"
  },
  "language_info": {
   "codemirror_mode": {
    "name": "ipython",
    "version": 3
   },
   "file_extension": ".py",
   "mimetype": "text/x-python",
   "name": "python",
   "nbconvert_exporter": "python",
   "pygments_lexer": "ipython3",
   "version": "3.8.3"
  }
 },
 "nbformat": 4,
 "nbformat_minor": 4
}
