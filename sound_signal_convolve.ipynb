{
 "cells": [
  {
   "cell_type": "code",
   "execution_count": null,
   "metadata": {},
   "outputs": [],
   "source": [
    "import wave as wave\n",
    "import numpy as np\n",
    "import scipy.signal as signal\n",
    "import scipy.io.wavfile as wavfile"
   ]
  },
  {
   "cell_type": "code",
   "execution_count": null,
   "metadata": {},
   "outputs": [],
   "source": [
    "np.random.seed(0)\n",
    "with wave.open(\"./res/sample.wav\") as wav:\n",
    "    sample_rate = wav.getframerate()\n",
    "    data = wav.readframes(wav.getnframes())\n",
    "    data = np.frombuffer(data, dtype = np.int16)\n",
    "    data01 = data / np.iinfo(np.int16).max"
   ]
  },
  {
   "cell_type": "code",
   "execution_count": null,
   "metadata": {},
   "outputs": [],
   "source": [
    "dummy_impluse_response = np.random.normal(size = 512)\n",
    "conv_data = signal.convolve(data01, dummy_impluse_response, mode = 'full')"
   ]
  },
  {
   "cell_type": "code",
   "execution_count": null,
   "metadata": {},
   "outputs": [],
   "source": [
    "#ファイルに書き込む\n",
    "data_scale_adjust = conv_data * np.iinfo(np.int16).max / 20.\n",
    "data_scale_adjust = data_scale_adjust.astype(np.int16)\n",
    "with wave.open(\"./output/conv_out.wav\", \"w\") as wave_out:\n",
    "    wave_out.setnchannels(1)\n",
    "    wave_out.setsampwidth(2)\n",
    "    wave_out.setframerate(sample_rate)\n",
    "    wave_out.writeframes(data_scale_adjust)"
   ]
  },
  {
   "cell_type": "code",
   "execution_count": null,
   "metadata": {},
   "outputs": [],
   "source": [
    "import matplotlib.pyplot as plt\n",
    "fig, ax = plt.subplots()\n",
    "ax.plot(data_scale_adjust, color = \"red\")\n",
    "ax.plot(data, color = \"blue\")\n",
    "plt.show()"
   ]
  },
  {
   "cell_type": "code",
   "execution_count": null,
   "metadata": {},
   "outputs": [],
   "source": [
    "spectrum, freqs, t, im = plt.specgram(data, NFFT=512, noverlap=512/16*15, Fs=wav.getframerate())"
   ]
  }
 ],
 "metadata": {
  "kernelspec": {
   "display_name": "Python 3",
   "language": "python",
   "name": "python3"
  },
  "language_info": {
   "codemirror_mode": {
    "name": "ipython",
    "version": 3
   },
   "file_extension": ".py",
   "mimetype": "text/x-python",
   "name": "python",
   "nbconvert_exporter": "python",
   "pygments_lexer": "ipython3",
   "version": "3.8.3"
  }
 },
 "nbformat": 4,
 "nbformat_minor": 4
}
