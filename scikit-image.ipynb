{
 "cells": [
  {
   "cell_type": "code",
   "execution_count": null,
   "metadata": {},
   "outputs": [],
   "source": [
    "from skimage import io\n",
    "import matplotlib.pyplot as plt\n",
    "im = io.imread(\"./res/P1030312.JPG\")\n",
    "plt.imshow(im)"
   ]
  },
  {
   "cell_type": "code",
   "execution_count": null,
   "metadata": {},
   "outputs": [],
   "source": [
    "from scipy import ndimage as ndi\n",
    "import numpy as np\n",
    "imf = im[:, :, 0].astype(float) / 255\n",
    "diff2d = np.array([ # エッジ抽出フィルタ\n",
    "    [0, 1, 0],\n",
    "    [1, 0, -1],\n",
    "    [0, -1, 0]\n",
    "]) # filter\n",
    "imf_edges = ndi.convolve(imf, diff2d)\n",
    "io.imshow(imf_edges)"
   ]
  },
  {
   "cell_type": "code",
   "execution_count": null,
   "metadata": {},
   "outputs": [],
   "source": [
    "# 同じセグメントに所属していると確信が持てる小さな領域（スーパーピクセル）同士の併合によって領域を見つける手法\n",
    "birds = io.imread(\"./res/P1030284.JPG\")\n",
    "io.imshow(birds)"
   ]
  },
  {
   "cell_type": "code",
   "execution_count": null,
   "metadata": {},
   "outputs": [],
   "source": [
    "from skimage import segmentation, color\n",
    "seg = segmentation.slic(birds, n_segments = 12, compactness = 40, enforce_connectivity = True, sigma = 3)\n",
    "io.imshow(color.label2rgb(seg, birds))"
   ]
  },
  {
   "cell_type": "code",
   "execution_count": null,
   "metadata": {},
   "outputs": [],
   "source": [
    "# 領域グラフ\n",
    "from skimage.future import graph\n",
    "g = graph.rag_mean_color(birds, seg)\n",
    "graph.show_rag(seg, g, birds)"
   ]
  },
  {
   "cell_type": "code",
   "execution_count": null,
   "metadata": {},
   "outputs": [],
   "source": []
  }
 ],
 "metadata": {
  "kernelspec": {
   "display_name": "Python 3",
   "language": "python",
   "name": "python3"
  },
  "language_info": {
   "codemirror_mode": {
    "name": "ipython",
    "version": 3
   },
   "file_extension": ".py",
   "mimetype": "text/x-python",
   "name": "python",
   "nbconvert_exporter": "python",
   "pygments_lexer": "ipython3",
   "version": "3.8.3"
  }
 },
 "nbformat": 4,
 "nbformat_minor": 4
}
