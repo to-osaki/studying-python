{
 "cells": [
  {
   "cell_type": "code",
   "execution_count": null,
   "metadata": {},
   "outputs": [],
   "source": [
    "import cv2\n",
    "import matplotlib.pyplot as plt\n",
    "import numpy as np\n",
    "# http://labs.eecs.tottori-u.ac.jp/sd/Member/oyamada/OpenCV/html/py_tutorials/py_feature2d/py_table_of_contents_feature2d/py_table_of_contents_feature2d.html#py-table-of-content-feature2d\n",
    "img = cv2.imread(\"./res/P1030312.jpg\")\n",
    "img_gray = cv2.cvtColor(img, cv2.COLOR_BGR2GRAY)\n",
    "plt.imshow(img_gray, cmap = \"gray\")"
   ]
  },
  {
   "cell_type": "code",
   "execution_count": null,
   "metadata": {},
   "outputs": [],
   "source": [
    "plt.imshow(cv2.Canny(img, threshold1 = 100, threshold2 = 150, L2gradient = False))"
   ]
  },
  {
   "cell_type": "code",
   "execution_count": null,
   "metadata": {},
   "outputs": [],
   "source": [
    "corners = cv2.goodFeaturesToTrack(img_gray, maxCorners = 20, qualityLevel=0.01, minDistance = 10)\n",
    "img_corners = img.copy()\n",
    "for c in corners:\n",
    "    x,y = c.ravel()\n",
    "    cv2.circle(img_corners, (int(x),int(y)), 3, 255, -1)\n",
    "plt.imshow(img_corners)"
   ]
  },
  {
   "cell_type": "code",
   "execution_count": null,
   "metadata": {},
   "outputs": [],
   "source": [
    "# CV_HOUGH_GRADIENT の場合は， Canny() エッジ検出器に渡される2つの閾値の内，大きい方の閾値\n",
    "# CV_HOUGH_GRADIENT の場合は，円の中心を検出する際の投票数の閾値\n",
    "circles = cv2.HoughCircles(img_gray, cv2.HOUGH_GRADIENT, 1, 20, param1 = 50, param2 = 80, minRadius=10,maxRadius=0)\n",
    "circles = np.uint16(np.around(circles))\n",
    "img_result = img.copy()\n",
    "for i in circles[0,:]:\n",
    "    # draw the outer circle\n",
    "    cv2.circle(img_result,(i[0],i[1]),i[2],(0,255,0),2)\n",
    "    # draw the center of the circle\n",
    "    cv2.circle(img_result,(i[0],i[1]),2,(0,0,255),3)\n",
    "plt.imshow(img_result)"
   ]
  },
  {
   "cell_type": "code",
   "execution_count": null,
   "metadata": {},
   "outputs": [],
   "source": [
    "edges = cv2.Canny(img_gray, 100, 200, apertureSize = 3)\n",
    "minLineLength = 30\n",
    "maxLineGap = 10\n",
    "lines = cv2.HoughLinesP(edges, 1, np.pi/180, 50, minLineLength, maxLineGap)\n",
    "img_result = img.copy()\n",
    "for line in lines:\n",
    "    for x1,y1,x2,y2 in line:\n",
    "        cv2.line(img_result, (x1,y1), (x2,y2), (0,255,0), 2)\n",
    "plt.imshow(img_result)"
   ]
  },
  {
   "cell_type": "code",
   "execution_count": null,
   "metadata": {},
   "outputs": [],
   "source": [
    "\n",
    "# http://labs.eecs.tottori-u.ac.jp/sd/Member/oyamada/OpenCV/html/py_tutorials/py_imgproc/py_contours/py_table_of_contents_contours/py_table_of_contents_contours.html\n",
    "\n",
    "contours = cv2.findContours(img_mask, cv2.RETR_EXTERNAL, cv2.CHAIN_APPROX_SIMPLE)[1]\n",
    "#area = cv2.contourArea(contours[0])\n",
    "#perimeter = cv2.arcLength(np.array(contours[0]), True)\n",
    "#roundness = 4 * np.pi * area / perimeter / perimeter"
   ]
  }
 ],
 "metadata": {
  "kernelspec": {
   "display_name": "Python 3",
   "language": "python",
   "name": "python3"
  },
  "language_info": {
   "codemirror_mode": {
    "name": "ipython",
    "version": 3
   },
   "file_extension": ".py",
   "mimetype": "text/x-python",
   "name": "python",
   "nbconvert_exporter": "python",
   "pygments_lexer": "ipython3",
   "version": "3.8.3"
  }
 },
 "nbformat": 4,
 "nbformat_minor": 4
}
