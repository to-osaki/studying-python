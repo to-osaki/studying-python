{
 "cells": [
  {
   "cell_type": "code",
   "execution_count": 2,
   "metadata": {},
   "outputs": [],
   "source": [
    "# https://www.ohmsha.co.jp/book/9784274226984/\n",
    "%config IPCompleter.greedy=True\n",
    "import sys\n",
    "import numpy as np\n",
    "import scipy as sp\n",
    "import scipy.stats\n",
    "import sympy as symp\n",
    "import itertools\n",
    "import matplotlib.pyplot as plt"
   ]
  },
  {
   "cell_type": "code",
   "execution_count": 3,
   "metadata": {},
   "outputs": [
    {
     "data": {
      "text/plain": [
       "sys.float_info(max=1.7976931348623157e+308, max_exp=1024, max_10_exp=308, min=2.2250738585072014e-308, min_exp=-1021, min_10_exp=-307, dig=15, mant_dig=53, epsilon=2.220446049250313e-16, radix=2, rounds=1)"
      ]
     },
     "execution_count": 3,
     "metadata": {},
     "output_type": "execute_result"
    }
   ],
   "source": [
    "sys.float_info"
   ]
  },
  {
   "cell_type": "code",
   "execution_count": 7,
   "metadata": {},
   "outputs": [
    {
     "data": {
      "text/plain": [
       "(9.999999999998701e-05, 0.0001)"
      ]
     },
     "execution_count": 7,
     "metadata": {},
     "output_type": "execute_result"
    }
   ],
   "source": [
    "dt = 10**-8\n",
    "t1 = 0\n",
    "t2 = 0\n",
    "c = 0\n",
    "for i in range(10000):\n",
    "    t1 += dt\n",
    "    c += 1\n",
    "    t2 = dt * c\n",
    "t1, t2"
   ]
  },
  {
   "cell_type": "code",
   "execution_count": 8,
   "metadata": {},
   "outputs": [
    {
     "data": {
      "text/plain": [
       "(1000.0001000585712, 1000.0000999999997, 1000.0001)"
      ]
     },
     "execution_count": 8,
     "metadata": {},
     "output_type": "execute_result"
    }
   ],
   "source": [
    "# equation\n",
    "a = np.float32(1000.)\n",
    "b = np.float32(10**-8)\n",
    "## formula\n",
    "x1 = (2*a + np.sqrt((2*a)**2 - 4*(a**2-b)))/2\n",
    "x2 = (2*a + np.sqrt( ((2*a)**2 - 4*(a**2)) + 4*b))/2\n",
    "x3 = a + np.sqrt(b)\n",
    "x1, x2, x3"
   ]
  },
  {
   "cell_type": "code",
   "execution_count": 18,
   "metadata": {},
   "outputs": [
    {
     "data": {
      "text/plain": [
       "array([1000.00010006,  999.99989994])"
      ]
     },
     "execution_count": 18,
     "metadata": {},
     "output_type": "execute_result"
    }
   ],
   "source": [
    "np.roots([1.0, -2*a, a**2-b])"
   ]
  },
  {
   "cell_type": "code",
   "execution_count": 26,
   "metadata": {},
   "outputs": [
    {
     "data": {
      "text/plain": [
       "(3.00009155413138, '4 iterations')"
      ]
     },
     "execution_count": 26,
     "metadata": {},
     "output_type": "execute_result"
    }
   ],
   "source": [
    "# newton's method\n",
    "def newton_method(f, df, x0, eps):\n",
    "    for i in range(100):\n",
    "        x = x0 - f(x0)/df(x0)\n",
    "        if abs(x - x0) < eps: break\n",
    "        x0 = x\n",
    "    return x0, f\"{i} iterations\"\n",
    "\n",
    "def f(x):\n",
    "    return x * x - 9.0\n",
    "def derivative_f(x):\n",
    "    return 2.0*x\n",
    "\n",
    "eps = 1.e-4\n",
    "x0 = 1.0\n",
    "newton_method(f, derivative_f, x0, eps)"
   ]
  },
  {
   "cell_type": "code",
   "execution_count": 27,
   "metadata": {},
   "outputs": [
    {
     "data": {
      "text/latex": [
       "$\\displaystyle \\frac{1}{4} + \\frac{3}{\\left(X - 1\\right)^{2} + 1}$"
      ],
      "text/plain": [
       "1/4 + 3/((X - 1)**2 + 1)"
      ]
     },
     "execution_count": 27,
     "metadata": {},
     "output_type": "execute_result"
    }
   ],
   "source": [
    "# sympy\n",
    "X = symp.Symbol('X')\n",
    "expr = 3 * symp.atan(X-1) + X/4\n",
    "symp.diff(expr, X)"
   ]
  },
  {
   "cell_type": "code",
   "execution_count": 28,
   "metadata": {},
   "outputs": [
    {
     "data": {
      "text/plain": [
       "(0.922984253294827, '6 iterations')"
      ]
     },
     "execution_count": 28,
     "metadata": {},
     "output_type": "execute_result"
    }
   ],
   "source": [
    "def f(x):\n",
    "    return 3*np.arctan(x-1)+x/4\n",
    "def derivative_f(x):\n",
    "    return 1/4 + 3/( (x-1)**2 + 1 )\n",
    "\n",
    "eps = 1.e-4\n",
    "x0 = 2.5\n",
    "newton_method(f, derivative_f, x0, eps)"
   ]
  },
  {
   "cell_type": "code",
   "execution_count": 30,
   "metadata": {},
   "outputs": [
    {
     "data": {
      "text/plain": [
       "(16.86288260493808, '99 iterations')"
      ]
     },
     "execution_count": 30,
     "metadata": {},
     "output_type": "execute_result"
    }
   ],
   "source": [
    "eps = 1.e-4\n",
    "x0 = 3.0\n",
    "newton_method(f, derivative_f, x0, eps)"
   ]
  },
  {
   "cell_type": "code",
   "execution_count": 36,
   "metadata": {},
   "outputs": [
    {
     "data": {
      "text/plain": [
       "Text(0, 0.5, 'f(x)')"
      ]
     },
     "execution_count": 36,
     "metadata": {},
     "output_type": "execute_result"
    },
    {
     "data": {
      "image/png": "[encoded data removed]",
      "text/plain": [
       "<Figure size 432x288 with 1 Axes>"
      ]
     },
     "metadata": {
      "needs_background": "light"
     },
     "output_type": "display_data"
    }
   ],
   "source": [
    "xx = np.arange(-10, 10, 0.25)\n",
    "yy = f(xx)\n",
    "plt.plot(xx, yy, c='k')\n",
    "plt.grid()\n",
    "plt.xlabel('x')\n",
    "plt.ylabel('f(x)')"
   ]
  },
  {
   "cell_type": "code",
   "execution_count": 38,
   "metadata": {},
   "outputs": [
    {
     "data": {
      "text/plain": [
       "[<matplotlib.lines.Line2D at 0x191f6946f70>]"
      ]
     },
     "execution_count": 38,
     "metadata": {},
     "output_type": "execute_result"
    },
    {
     "data": {
      "image/png": "[encoded data removed]",
      "text/plain": [
       "<Figure size 432x288 with 1 Axes>"
      ]
     },
     "metadata": {
      "needs_background": "light"
     },
     "output_type": "display_data"
    }
   ],
   "source": [
    "# interpolation (curve fitting)\n",
    "num = 20\n",
    "x = np.arange(0,num,1)\n",
    "y = 1.2*x + sp.stats.uniform(loc=-10.0, scale=10.0).rvs(num)\n",
    "\n",
    "p5 = np.polyfit(x, y, deg=5)\n",
    "p15 = np.polyfit(x, y, deg=15)\n",
    "xx = np.linspace(np.min(x), np.max(x), 200)\n",
    "y5 = np.polyval(p5, xx)\n",
    "y15 = np.polyval(p15, xx)\n",
    "\n",
    "plt.grid()\n",
    "plt.scatter(x, y)\n",
    "plt.plot(xx, y5)\n",
    "plt.plot(xx, y15)"
   ]
  },
  {
   "cell_type": "code",
   "execution_count": 40,
   "metadata": {},
   "outputs": [
    {
     "data": {
      "text/plain": [
       "  message: 'The solver successfully reached the end of the integration interval.'\n",
       "     nfev: 116\n",
       "     njev: 0\n",
       "      nlu: 0\n",
       "      sol: <scipy.integrate._ivp.common.OdeSolution object at 0x00000191F69B6400>\n",
       "   status: 0\n",
       "  success: True\n",
       "        t: array([0.00000000e+00, 9.99000999e-04, 1.09890110e-02, 1.10889111e-01,\n",
       "       1.10989011e+00, 2.88965259e+00, 4.57487351e+00, 6.26009443e+00,\n",
       "       8.46920664e+00, 1.03213591e+01, 1.21735115e+01, 1.41138898e+01,\n",
       "       1.60847723e+01, 1.78335397e+01, 1.95507896e+01, 2.00000000e+01])\n",
       " t_events: None\n",
       "        y: array([[ 0.00000000e+00,  9.99000957e-04,  1.09889557e-02,\n",
       "         1.10832697e-01,  1.05745241e+00,  2.12143438e+00,\n",
       "         2.15435480e+00,  1.54575163e+00,  6.86780435e-01,\n",
       "         4.46340373e-01,  6.48789703e-01,  1.01555465e+00,\n",
       "         1.23179105e+00,  1.21332173e+00,  1.08023734e+00,\n",
       "         1.04148805e+00],\n",
       "       [ 1.00000000e+00,  9.99999875e-01,  9.99984919e-01,\n",
       "         9.98477446e-01,  8.62827891e-01,  2.96399863e-01,\n",
       "        -2.22221208e-01, -4.41111279e-01, -2.72292893e-01,\n",
       "         8.96482764e-03,  1.80147535e-01,  1.68776610e-01,\n",
       "         4.33661839e-02, -5.56882562e-02, -8.73570950e-02,\n",
       "        -8.44927223e-02]])\n",
       " y_events: None"
      ]
     },
     "execution_count": 40,
     "metadata": {},
     "output_type": "execute_result"
    }
   ],
   "source": [
    "# ordinal differencial equation\n",
    "from scipy.integrate import solve_ivp\n",
    "\n",
    "def dFunc(time, x, mass, damper, spring, u):\n",
    "    dx0=x[1]\n",
    "    dx1=(-1/mass)*(damper*x[1] + spring*x[0] - u)\n",
    "    return [dx0, dx1]\n",
    "\n",
    "x0=[0.0, 1.0]\n",
    "u = 1.0\n",
    "mass, damper, spring = 4.0, 1.0, 1.0\n",
    "T_END=20\n",
    "\n",
    "sol = solve_ivp(fun=dFunc, t_span=[0, T_END], y0=x0, method='RK45', args=[mass, damper, spring, u], dense_output=True)\n",
    "sol"
   ]
  },
  {
   "cell_type": "code",
   "execution_count": 9,
   "metadata": {},
   "outputs": [
    {
     "data": {
      "text/plain": [
       "array([0.79660125, 0.85797793, 0.80347166, 0.08109138, 0.48913998,\n",
       "       0.85912649, 0.83705714, 0.7281896 , 0.38920131, 0.77512637])"
      ]
     },
     "execution_count": 9,
     "metadata": {},
     "output_type": "execute_result"
    }
   ],
   "source": [
    "# https://numpy.org/doc/stable/reference/random/generated/numpy.random.uniform.html\n",
    "np.random.uniform(0, 1, 10)"
   ]
  },
  {
   "cell_type": "code",
   "execution_count": 10,
   "metadata": {},
   "outputs": [],
   "source": [
    "def box_muller():\n",
    "    u1 = np.random.uniform(0, 1)\n",
    "    u2 = np.random.uniform(0, 1)\n",
    "    z1 = np.sqrt(-np.log(u1)) * np.cos(2 * np.pi * u2)\n",
    "    z2 = np.sqrt(-np.log(u1)) * np.sin(2 * np.pi * u2)\n",
    "    return [z1, z2]"
   ]
  },
  {
   "cell_type": "code",
   "execution_count": 14,
   "metadata": {},
   "outputs": [
    {
     "data": {
      "text/plain": [
       "<matplotlib.axes._subplots.AxesSubplot at 0x191f4aa0850>"
      ]
     },
     "execution_count": 14,
     "metadata": {},
     "output_type": "execute_result"
    },
    {
     "data": {
      "image/png": "[encoded data removed]",
      "text/plain": [
       "<Figure size 432x288 with 1 Axes>"
      ]
     },
     "metadata": {
      "needs_background": "light"
     },
     "output_type": "display_data"
    }
   ],
   "source": [
    "import seaborn as sns\n",
    "normals = itertools.chain.from_iterable([box_muller() for i in range(100)])\n",
    "normals = list(normals)\n",
    "sns.distplot(normals, bins = 30)"
   ]
  },
  {
   "cell_type": "code",
   "execution_count": 31,
   "metadata": {},
   "outputs": [
    {
     "data": {
      "text/plain": [
       "array([0.24414062, 0.43945312, 0.26367187, 0.05273438])"
      ]
     },
     "execution_count": 31,
     "metadata": {},
     "output_type": "execute_result"
    }
   ],
   "source": [
    "# probability distribution\n",
    "n = 3\n",
    "k = np.arange(0, n+1)\n",
    "sp.stats.binom.pmf(k, n, p=0.375) # probability mass function"
   ]
  },
  {
   "cell_type": "code",
   "execution_count": 37,
   "metadata": {},
   "outputs": [
    {
     "data": {
      "text/plain": [
       "<matplotlib.legend.Legend at 0x191f70dde50>"
      ]
     },
     "execution_count": 37,
     "metadata": {},
     "output_type": "execute_result"
    },
    {
     "data": {
      "image/png": "[encoded data removed]",
      "text/plain": [
       "<Figure size 432x288 with 1 Axes>"
      ]
     },
     "metadata": {
      "needs_background": "light"
     },
     "output_type": "display_data"
    }
   ],
   "source": [
    "x = np.arange(1, 20, 1.0)\n",
    "for l in range(1, 6): # lambda\n",
    "    pmf = sp.stats.poisson.pmf(x, l)\n",
    "    plt.plot(x, pmf, label = f\"lambda{l}\")\n",
    "plt.legend()"
   ]
  },
  {
   "cell_type": "code",
   "execution_count": null,
   "metadata": {},
   "outputs": [],
   "source": [
    "\n"
   ]
  }
 ],
 "metadata": {
  "kernelspec": {
   "display_name": "Python 3",
   "language": "python",
   "name": "python3"
  },
  "language_info": {
   "codemirror_mode": {
    "name": "ipython",
    "version": 3
   },
   "file_extension": ".py",
   "mimetype": "text/x-python",
   "name": "python",
   "nbconvert_exporter": "python",
   "pygments_lexer": "ipython3",
   "version": "3.8.3"
  }
 },
 "nbformat": 4,
 "nbformat_minor": 4
}
