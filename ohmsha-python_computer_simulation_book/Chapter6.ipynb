{
 "cells": [
  {
   "cell_type": "code",
   "execution_count": 17,
   "metadata": {},
   "outputs": [],
   "source": [
    "# https://www.ohmsha.co.jp/book/9784274226984/\n",
    "# Bussiness model\n",
    "%config IPCompleter.greedy=True\n",
    "import sys\n",
    "import numpy as np\n",
    "import scipy as sp\n",
    "import scipy.stats\n",
    "import sympy as symp\n",
    "import itertools\n",
    "\n",
    "import matplotlib.pyplot as plt\n",
    "import seaborn as sns"
   ]
  },
  {
   "cell_type": "markdown",
   "metadata": {},
   "source": [
    "# 線形計画法"
   ]
  },
  {
   "cell_type": "code",
   "execution_count": 39,
   "metadata": {},
   "outputs": [
    {
     "data": {
      "text/plain": [
       "problem:\n",
       "MAXIMIZE\n",
       "300*x12 + 280*x23 + 420*x31 + 0\n",
       "SUBJECT TO\n",
       "_C1: 40 x12 + 5 x23 + 20 x31 <= 2000\n",
       "\n",
       "_C2: 30 x12 + 50 x23 + 10 x31 <= 3000\n",
       "\n",
       "_C3: 5 x12 + 10 x23 + 50 x31 <= 1000\n",
       "\n",
       "VARIABLES\n",
       "0 <= x12 Integer\n",
       "0 <= x23 Integer\n",
       "0 <= x31 Integer"
      ]
     },
     "execution_count": 39,
     "metadata": {},
     "output_type": "execute_result"
    }
   ],
   "source": [
    "import pulp\n",
    "# 決定変数\n",
    "x1=pulp.LpVariable(\"x12\", 0, cat=pulp.LpInteger)\n",
    "x2=pulp.LpVariable(\"x23\", 0, cat=pulp.LpInteger)\n",
    "x3=pulp.LpVariable(\"x31\", 0, cat=pulp.LpInteger)\n",
    "# 問題\n",
    "prob = pulp.LpProblem(\"problem\", pulp.LpMaximize)\n",
    "prob += 300*x1 + 280*x2 + 420*x3, 'objective_function'\n",
    "# 制約\n",
    "prob += 40*x1 + 5*x2 + 20*x3 <= 2000\n",
    "prob += 30*x1 + 50*x2 + 10*x3 <= 3000\n",
    "prob += 5*x1 + 10*x2 + 50*x3 <= 1000\n",
    "prob"
   ]
  },
  {
   "cell_type": "code",
   "execution_count": 40,
   "metadata": {},
   "outputs": [
    {
     "data": {
      "text/plain": [
       "1"
      ]
     },
     "execution_count": 40,
     "metadata": {},
     "output_type": "execute_result"
    }
   ],
   "source": [
    "prob.solve()"
   ]
  },
  {
   "cell_type": "code",
   "execution_count": 41,
   "metadata": {},
   "outputs": [
    {
     "data": {
      "text/plain": [
       "25320"
      ]
     },
     "execution_count": 41,
     "metadata": {},
     "output_type": "execute_result"
    }
   ],
   "source": [
    "pulp.value(prob.objective)"
   ]
  },
  {
   "cell_type": "code",
   "execution_count": 42,
   "metadata": {},
   "outputs": [
    {
     "name": "stdout",
     "output_type": "stream",
     "text": [
      "x12 = 41\n",
      "x23 = 33\n",
      "x31 = 9\n"
     ]
    }
   ],
   "source": [
    "for v in prob.variables(): # 決定変数の最適値\n",
    "    print(f\"{v} = {pulp.value(v)}\")"
   ]
  },
  {
   "cell_type": "code",
   "execution_count": null,
   "metadata": {},
   "outputs": [],
   "source": []
  }
 ],
 "metadata": {
  "kernelspec": {
   "display_name": "Python 3",
   "language": "python",
   "name": "python3"
  },
  "language_info": {
   "codemirror_mode": {
    "name": "ipython",
    "version": 3
   },
   "file_extension": ".py",
   "mimetype": "text/x-python",
   "name": "python",
   "nbconvert_exporter": "python",
   "pygments_lexer": "ipython3",
   "version": "3.8.3"
  }
 },
 "nbformat": 4,
 "nbformat_minor": 4
}
