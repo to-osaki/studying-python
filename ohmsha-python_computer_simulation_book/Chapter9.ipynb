{
 "cells": [
  {
   "cell_type": "code",
   "execution_count": 62,
   "metadata": {},
   "outputs": [],
   "source": [
    "# https://www.ohmsha.co.jp/book/9784274226984/\n",
    "# Generic Algorithm\n",
    "%config IPCompleter.greedy=True\n",
    "import sys\n",
    "import numpy as np\n",
    "import scipy as sp\n",
    "import scipy.stats\n",
    "import sympy as symp\n",
    "import itertools\n",
    "\n",
    "import matplotlib.pyplot as plt\n",
    "import seaborn as sns"
   ]
  },
  {
   "cell_type": "code",
   "execution_count": 63,
   "metadata": {},
   "outputs": [],
   "source": [
    "# > conda install -c conda-forge deap\n",
    "from deap import base, creator, tools, algorithms"
   ]
  },
  {
   "cell_type": "markdown",
   "metadata": {},
   "source": [
    "> 遺伝的アルゴリズム  \n",
    "> 探索方法を陽に指定する必要がなく、設計ルールの表現のみで探索を実現できる。複雑な制約を避けたり、適応度の評価の難しい問題に対し主観を持ち込んで解決を図る\n",
    "\n",
    "1. コーディング\n",
    "\n",
    "+ バイナリコーディング \n",
    "+ 順序コーディング \n",
    "+ 実数値コーディング \n",
    "+ etc\n",
    "\n",
    "2. 評価\n",
    "\n",
    "3. 選択\n",
    "\n",
    "+ エリート選択\n",
    "+ ランダム選択\n",
    "+ ルーレット選択 評価点の付け方の影響が大きい\n",
    "+ トーナメント選択 ランダムに抽出した中から良い個体を選ぶ\n",
    "+ etc\n",
    "\n",
    "4a. 交叉\n",
    "２つの個体からどのように遺伝子を受け継ぐか\n",
    "\n",
    "+ Ｎ点交叉\n",
    "+ 一様交叉\n",
    "+ 順序交叉 一方の個体の残す部分を決め、残りを埋める\n",
    "+ ブレンド交叉 値の重み付け平均\n",
    "+ etc\n",
    "\n",
    "4b. 突然変異\n",
    "\n",
    "+ 反転\n",
    "+ 順序入れ替え\n",
    "+ 値の入れ替え\n"
   ]
  },
  {
   "cell_type": "code",
   "execution_count": 64,
   "metadata": {},
   "outputs": [],
   "source": [
    "# ナップザック問題\n",
    "WEIGHT = 10\n",
    "items = ((8,10), (7,13), (6,7), (5,4), (4,9), (3,3), (2,3), (1,2))\n",
    "\n",
    "# 評価関数\n",
    "def evaluate(ind): # ここでは持っている商品の集合を遺伝子とする\n",
    "    if len(ind) > len(items):\n",
    "        return 0,\n",
    "    w = 0 # 重さ\n",
    "    v = 0 # 価値\n",
    "    for idx in ind:\n",
    "        w += items[idx][0]\n",
    "        v += items[idx][1]\n",
    "    v = (v if w <= WEIGHT else 0)\n",
    "    return v,\n",
    "\n",
    "# 交叉の定義\n",
    "def cxSet(ind1, ind2):\n",
    "    tmp = set(ind1)\n",
    "    ind1 &= ind2 # 積集合と、\n",
    "    ind2 ^= tmp # 和集合\n",
    "    return ind1, ind2\n",
    "\n",
    "# 突然変異の定義\n",
    "def mutSet(ind):\n",
    "    add = random.random() < 0.5\n",
    "    if add:\n",
    "        ind.add(random.randrange(len(items)))\n",
    "    else:\n",
    "        if len(ind) > 0:\n",
    "            idx = random.randrange(len(ind))\n",
    "            ind.remove(tuple(ind)[idx])\n",
    "    return ind,"
   ]
  },
  {
   "cell_type": "code",
   "execution_count": 65,
   "metadata": {},
   "outputs": [],
   "source": [
    "import random\n",
    "\n",
    "creator.create(\"Fitness\", base.Fitness, weights=(1.0,) )\n",
    "creator.create(\"Individual\", set, fitness = creator.Fitness) # set : 重複を許さない\n",
    "\n",
    "toolbox = base.Toolbox()\n",
    "\n",
    "#遺伝子の属性の設定\n",
    "toolbox.register(\"attribute\", random.randrange, len(items) )\n",
    "#初期個体の生成\n",
    "toolbox.register(\"individual\", tools.initRepeat, creator.Indivisual, toolbox.attribute, len(items) )\n",
    "#初期個体群を作成\n",
    "toolbox.register(\"population\", tools.initRepeat, list, toolbox.individual )\n",
    "\n",
    "toolbox.register(\"evaluate\", evaluate)\n",
    "toolbox.register(\"mate\", cxSet)\n",
    "toolbox.register(\"mutate\", mutSet)\n",
    "toolbox.register(\"select\", tools.selTournament, tournsize=3)"
   ]
  },
  {
   "cell_type": "code",
   "execution_count": 66,
   "metadata": {},
   "outputs": [],
   "source": [
    "hof = tools.ParetoFront()\n",
    "stats = tools.Statistics(lambda ind: ind.fitness.values) # 評価中に表示する情報\n",
    "stats.register(\"avg\", np.mean, axis=0)\n",
    "stats.register(\"std\", np.std, axis=0)\n",
    "stats.register(\"min\", np.min, axis=0)\n",
    "stats.register(\"max\", np.max, axis=0)"
   ]
  },
  {
   "cell_type": "code",
   "execution_count": 67,
   "metadata": {},
   "outputs": [
    {
     "name": "stdout",
     "output_type": "stream",
     "text": [
      "gen\tnevals\tavg \tstd \tmin \tmax \n",
      "0  \t50    \t[0.]\t[0.]\t[0.]\t[0.]\n",
      "1  \t26    \t[0.54]\t[2.45934951]\t[0.]\t[13.]\n",
      "2  \t40    \t[2.5] \t[4.84252001]\t[0.]\t[18.]\n",
      "3  \t37    \t[6.14]\t[6.46532288]\t[0.]\t[18.]\n",
      "4  \t46    \t[4.98]\t[5.97826062]\t[0.]\t[18.]\n",
      "5  \t41    \t[5.84]\t[5.81501505]\t[0.]\t[18.]\n",
      "6  \t43    \t[5.32]\t[6.47592464]\t[0.]\t[18.]\n",
      "7  \t45    \t[5.92]\t[5.74400557]\t[0.]\t[16.]\n",
      "8  \t42    \t[5.5] \t[5.96070466]\t[0.]\t[16.]\n",
      "9  \t43    \t[6.82]\t[6.6773947] \t[0.]\t[18.]\n",
      "10 \t47    \t[7.84]\t[6.50033845]\t[0.]\t[18.]\n"
     ]
    },
    {
     "data": {
      "text/plain": [
       "([{1},\n",
       "  {6, 7},\n",
       "  {6},\n",
       "  {1},\n",
       "  Indivisual(),\n",
       "  {1, 6},\n",
       "  {1},\n",
       "  {6},\n",
       "  Indivisual(),\n",
       "  {4, 6, 7},\n",
       "  {1},\n",
       "  {7},\n",
       "  {1, 6},\n",
       "  {4},\n",
       "  Indivisual(),\n",
       "  {0, 1, 6},\n",
       "  {1, 6},\n",
       "  {1, 6, 7},\n",
       "  {1, 6},\n",
       "  Indivisual(),\n",
       "  Indivisual(),\n",
       "  {0, 1, 6, 7},\n",
       "  {1},\n",
       "  {2, 6, 7},\n",
       "  Indivisual(),\n",
       "  {1, 6},\n",
       "  Indivisual(),\n",
       "  {1, 7},\n",
       "  Indivisual(),\n",
       "  {1},\n",
       "  {1},\n",
       "  {6, 7},\n",
       "  Indivisual(),\n",
       "  {1, 6},\n",
       "  {1, 7},\n",
       "  Indivisual(),\n",
       "  {1},\n",
       "  {6},\n",
       "  {6},\n",
       "  {1},\n",
       "  {1},\n",
       "  {7},\n",
       "  {1, 7},\n",
       "  {6},\n",
       "  {6},\n",
       "  {1},\n",
       "  {6, 7},\n",
       "  {1, 4},\n",
       "  {6},\n",
       "  {1, 7}],\n",
       " [{'gen': 0,\n",
       "   'nevals': 50,\n",
       "   'avg': array([0.]),\n",
       "   'std': array([0.]),\n",
       "   'min': array([0.]),\n",
       "   'max': array([0.])},\n",
       "  {'gen': 1,\n",
       "   'nevals': 26,\n",
       "   'avg': array([0.54]),\n",
       "   'std': array([2.45934951]),\n",
       "   'min': array([0.]),\n",
       "   'max': array([13.])},\n",
       "  {'gen': 2,\n",
       "   'nevals': 40,\n",
       "   'avg': array([2.5]),\n",
       "   'std': array([4.84252001]),\n",
       "   'min': array([0.]),\n",
       "   'max': array([18.])},\n",
       "  {'gen': 3,\n",
       "   'nevals': 37,\n",
       "   'avg': array([6.14]),\n",
       "   'std': array([6.46532288]),\n",
       "   'min': array([0.]),\n",
       "   'max': array([18.])},\n",
       "  {'gen': 4,\n",
       "   'nevals': 46,\n",
       "   'avg': array([4.98]),\n",
       "   'std': array([5.97826062]),\n",
       "   'min': array([0.]),\n",
       "   'max': array([18.])},\n",
       "  {'gen': 5,\n",
       "   'nevals': 41,\n",
       "   'avg': array([5.84]),\n",
       "   'std': array([5.81501505]),\n",
       "   'min': array([0.]),\n",
       "   'max': array([18.])},\n",
       "  {'gen': 6,\n",
       "   'nevals': 43,\n",
       "   'avg': array([5.32]),\n",
       "   'std': array([6.47592464]),\n",
       "   'min': array([0.]),\n",
       "   'max': array([18.])},\n",
       "  {'gen': 7,\n",
       "   'nevals': 45,\n",
       "   'avg': array([5.92]),\n",
       "   'std': array([5.74400557]),\n",
       "   'min': array([0.]),\n",
       "   'max': array([16.])},\n",
       "  {'gen': 8,\n",
       "   'nevals': 42,\n",
       "   'avg': array([5.5]),\n",
       "   'std': array([5.96070466]),\n",
       "   'min': array([0.]),\n",
       "   'max': array([16.])},\n",
       "  {'gen': 9,\n",
       "   'nevals': 43,\n",
       "   'avg': array([6.82]),\n",
       "   'std': array([6.6773947]),\n",
       "   'min': array([0.]),\n",
       "   'max': array([18.])},\n",
       "  {'gen': 10,\n",
       "   'nevals': 47,\n",
       "   'avg': array([7.84]),\n",
       "   'std': array([6.50033845]),\n",
       "   'min': array([0.]),\n",
       "   'max': array([18.])}])"
      ]
     },
     "execution_count": 67,
     "metadata": {},
     "output_type": "execute_result"
    }
   ],
   "source": [
    "pop = toolbox.population(n=50)\n",
    "algorithms.eaSimple(pop, toolbox, cxpb=0.8, mutpb=0.1, ngen=10, stats=stats, halloffame=hof, verbose=True)"
   ]
  },
  {
   "cell_type": "code",
   "execution_count": 68,
   "metadata": {},
   "outputs": [
    {
     "data": {
      "text/plain": [
       "{1, 6, 7}"
      ]
     },
     "execution_count": 68,
     "metadata": {},
     "output_type": "execute_result"
    }
   ],
   "source": [
    "best_ind = tools.selBest(pop, 1)[0]\n",
    "best_ind"
   ]
  },
  {
   "cell_type": "code",
   "execution_count": 69,
   "metadata": {},
   "outputs": [
    {
     "data": {
      "text/plain": [
       "(18,)"
      ]
     },
     "execution_count": 69,
     "metadata": {},
     "output_type": "execute_result"
    }
   ],
   "source": [
    "evaluate(best_ind)"
   ]
  },
  {
   "cell_type": "code",
   "execution_count": null,
   "metadata": {},
   "outputs": [],
   "source": []
  }
 ],
 "metadata": {
  "kernelspec": {
   "display_name": "Python 3",
   "language": "python",
   "name": "python3"
  },
  "language_info": {
   "codemirror_mode": {
    "name": "ipython",
    "version": 3
   },
   "file_extension": ".py",
   "mimetype": "text/x-python",
   "name": "python",
   "nbconvert_exporter": "python",
   "pygments_lexer": "ipython3",
   "version": "3.8.3"
  }
 },
 "nbformat": 4,
 "nbformat_minor": 4
}
