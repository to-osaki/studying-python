{
 "cells": [
  {
   "cell_type": "code",
   "execution_count": 1,
   "metadata": {},
   "outputs": [],
   "source": [
    "import pulp"
   ]
  },
  {
   "cell_type": "code",
   "execution_count": 2,
   "metadata": {},
   "outputs": [],
   "source": [
    "# 線形最適化問題"
   ]
  },
  {
   "cell_type": "code",
   "execution_count": 3,
   "metadata": {},
   "outputs": [
    {
     "data": {
      "text/plain": [
       "problem_name:\n",
       "MAXIMIZE\n",
       "1*x1_var + 2*x2_var + 0\n",
       "SUBJECT TO\n",
       "condition_material: x1_var + 3 x2_var <= 24\n",
       "\n",
       "condition_work: 4 x1_var + 4 x2_var <= 48\n",
       "\n",
       "condition_time: 2 x1_var + x2_var <= 22\n",
       "\n",
       "VARIABLES\n",
       "x1_var Continuous\n",
       "x2_var Continuous"
      ]
     },
     "execution_count": 3,
     "metadata": {},
     "output_type": "execute_result"
    }
   ],
   "source": [
    "# 定式化\n",
    "x1 = pulp.LpVariable('x1_var', 0)\n",
    "x2 = pulp.LpVariable('x2_var', 0)\n",
    "p = pulp.LpProblem('problem_name', sense = pulp.LpMaximize)\n",
    "# 目的関数\n",
    "p += x1 + 2 * x2 , 'objective_function_profit'\n",
    "# 制約条件\n",
    "p += x1 + 3 * x2 <= 24 , 'condition_material'\n",
    "p += 4 * x1 + 4 * x2 <= 48 , 'condition_work'\n",
    "p += 2 * x1 + x2 <= 22 , 'condition_time'\n",
    "p"
   ]
  },
  {
   "cell_type": "code",
   "execution_count": 4,
   "metadata": {},
   "outputs": [
    {
     "data": {
      "text/plain": [
       "'Optimal'"
      ]
     },
     "execution_count": 4,
     "metadata": {},
     "output_type": "execute_result"
    }
   ],
   "source": [
    "result = p.solve()\n",
    "pulp.LpStatus[result] # Infeasible（実行可能領域が空），Unbounded（目的関数をどこまでも良くできる）"
   ]
  },
  {
   "cell_type": "code",
   "execution_count": 5,
   "metadata": {},
   "outputs": [
    {
     "data": {
      "text/plain": [
       "18.0"
      ]
     },
     "execution_count": 5,
     "metadata": {},
     "output_type": "execute_result"
    }
   ],
   "source": [
    "pulp.value(p.objective) # 目的関数の最適評価値"
   ]
  },
  {
   "cell_type": "code",
   "execution_count": 6,
   "metadata": {},
   "outputs": [
    {
     "name": "stdout",
     "output_type": "stream",
     "text": [
      "x1_var = 6.0\n",
      "x2_var = 6.0\n"
     ]
    }
   ],
   "source": [
    "for v in p.variables(): # 決定変数の最適値\n",
    "    print(f\"{v} = {pulp.value(v)}\")"
   ]
  },
  {
   "cell_type": "code",
   "execution_count": 7,
   "metadata": {},
   "outputs": [],
   "source": [
    "# 食事問題"
   ]
  },
  {
   "cell_type": "code",
   "execution_count": 8,
   "metadata": {},
   "outputs": [
    {
     "data": {
      "text/plain": [
       "problem_eat:\n",
       "MINIMIZE\n",
       "75*xA + 62*xB + 50*xC + 0\n",
       "SUBJECT TO\n",
       "condition_A: 30 xA + 18 xB + 11 xC >= 150\n",
       "\n",
       "condition_B: 18 xA + 22 xB + 40 xC >= 100\n",
       "\n",
       "condition_C: 2 xA + 3 xB + 5 xC >= 15\n",
       "\n",
       "VARIABLES\n",
       "xA Continuous\n",
       "xB Continuous\n",
       "xC Continuous"
      ]
     },
     "execution_count": 8,
     "metadata": {},
     "output_type": "execute_result"
    }
   ],
   "source": [
    "xA = pulp.LpVariable(\"xA\", 0)\n",
    "xB = pulp.LpVariable(\"xB\", 0)\n",
    "xC = pulp.LpVariable(\"xC\", 0)\n",
    "pp = pulp.LpProblem(\"problem_eat\")\n",
    "pp += 75 * xA + 62 * xB + 50 * xC, 'objective_function_eat'\n",
    "pp += 30 * xA + 18 * xB + 11 * xC >= 150, 'condition_A'\n",
    "pp += 18 * xA + 22 * xB + 40 * xC >= 100, 'condition_B'\n",
    "pp += 2 * xA + 3 * xB + 5 * xC >= 15, 'condition_C'\n",
    "pp"
   ]
  },
  {
   "cell_type": "code",
   "execution_count": 9,
   "metadata": {},
   "outputs": [
    {
     "data": {
      "text/plain": [
       "'Optimal'"
      ]
     },
     "execution_count": 9,
     "metadata": {},
     "output_type": "execute_result"
    }
   ],
   "source": [
    "result = pp.solve()\n",
    "pulp.LpStatus[result]"
   ]
  },
  {
   "cell_type": "code",
   "execution_count": 10,
   "metadata": {},
   "outputs": [
    {
     "data": {
      "text/plain": [
       "401.36675"
      ]
     },
     "execution_count": 10,
     "metadata": {},
     "output_type": "execute_result"
    }
   ],
   "source": [
    "pulp.value(pp.objective)"
   ]
  },
  {
   "cell_type": "code",
   "execution_count": 11,
   "metadata": {},
   "outputs": [
    {
     "name": "stdout",
     "output_type": "stream",
     "text": [
      "xA = 4.57031\n",
      "xB = 0.0\n",
      "xC = 1.17187\n"
     ]
    }
   ],
   "source": [
    "for v in pp.variables():\n",
    "    print(f\"{v} = {pulp.value(v)}\")"
   ]
  },
  {
   "cell_type": "code",
   "execution_count": 12,
   "metadata": {},
   "outputs": [],
   "source": [
    "# ナップサック問題"
   ]
  },
  {
   "cell_type": "code",
   "execution_count": 13,
   "metadata": {},
   "outputs": [],
   "source": [
    "VALUE = [18, 14, 16, 7, 12, 22]\n",
    "COST = [16, 14, 14, 12, 11,18]\n",
    "variables = [pulp.LpVariable(f'x{i}', cat = pulp.LpBinary) for i in range(len(VALUE))]"
   ]
  },
  {
   "cell_type": "code",
   "execution_count": 14,
   "metadata": {},
   "outputs": [
    {
     "data": {
      "text/plain": [
       "problem_knapsack:\n",
       "MAXIMIZE\n",
       "18*x0 + 14*x1 + 16*x2 + 7*x3 + 12*x4 + 22*x5 + 0\n",
       "SUBJECT TO\n",
       "condition_knapsack: 16 x0 + 14 x1 + 14 x2 + 12 x3 + 11 x4 + 18 x5 <= 50\n",
       "\n",
       "VARIABLES\n",
       "0 <= x0 <= 1 Integer\n",
       "0 <= x1 <= 1 Integer\n",
       "0 <= x2 <= 1 Integer\n",
       "0 <= x3 <= 1 Integer\n",
       "0 <= x4 <= 1 Integer\n",
       "0 <= x5 <= 1 Integer"
      ]
     },
     "execution_count": 14,
     "metadata": {},
     "output_type": "execute_result"
    }
   ],
   "source": [
    "pn = pulp.LpProblem('problem_knapsack', sense = pulp.LpMaximize)\n",
    "pn += pulp.lpSum(VALUE[i] * variables[i] for i in range(len(VALUE))), 'objective_function_knapsack'\n",
    "pn += pulp.lpSum(COST[i] * variables[i] for i in range(len(VALUE))) <= 50, 'condition_knapsack'\n",
    "pn"
   ]
  },
  {
   "cell_type": "code",
   "execution_count": 15,
   "metadata": {},
   "outputs": [
    {
     "data": {
      "text/plain": [
       "'Optimal'"
      ]
     },
     "execution_count": 15,
     "metadata": {},
     "output_type": "execute_result"
    }
   ],
   "source": [
    "result = pn.solve()\n",
    "pulp.LpStatus[result]"
   ]
  },
  {
   "cell_type": "code",
   "execution_count": 16,
   "metadata": {},
   "outputs": [
    {
     "data": {
      "text/plain": [
       "56"
      ]
     },
     "execution_count": 16,
     "metadata": {},
     "output_type": "execute_result"
    }
   ],
   "source": [
    "pulp.value(pn.objective)"
   ]
  },
  {
   "cell_type": "code",
   "execution_count": 17,
   "metadata": {},
   "outputs": [
    {
     "name": "stdout",
     "output_type": "stream",
     "text": [
      "x0 = 1\n",
      "x1 = 0\n",
      "x2 = 1\n",
      "x3 = 0\n",
      "x4 = 0\n",
      "x5 = 1\n"
     ]
    }
   ],
   "source": [
    "for v in pn.variables():\n",
    "    print(f\"{v} = {pulp.value(v)}\")"
   ]
  },
  {
   "cell_type": "code",
   "execution_count": 18,
   "metadata": {},
   "outputs": [],
   "source": [
    "# 資材切り出し問題"
   ]
  },
  {
   "cell_type": "code",
   "execution_count": 19,
   "metadata": {},
   "outputs": [
    {
     "data": {
      "text/plain": [
       "problem_cut:\n",
       "MINIMIZE\n",
       "1*x1 + 1*x2 + 1*x3 + 1*x4 + 1*x5 + 1*x6 + 0\n",
       "SUBJECT TO\n",
       "size_a: x1 + x2 >= 26\n",
       "\n",
       "size_b: x1 + 3 x3 + 2 x4 + x5 >= 52\n",
       "\n",
       "size_c: x2 + x4 + 2 x5 + 4 x6 >= 65\n",
       "\n",
       "VARIABLES\n",
       "0 <= x1 Integer\n",
       "0 <= x2 Integer\n",
       "0 <= x3 Integer\n",
       "0 <= x4 Integer\n",
       "0 <= x5 Integer\n",
       "0 <= x6 Integer"
      ]
     },
     "execution_count": 19,
     "metadata": {},
     "output_type": "execute_result"
    }
   ],
   "source": [
    "x1 = pulp.LpVariable(\"x1\", 0, cat=pulp.LpInteger) # 15 + 8\n",
    "x2 = pulp.LpVariable(\"x2\", 0, cat=pulp.LpInteger) # 15 + 6\n",
    "x3 = pulp.LpVariable(\"x3\", 0, cat=pulp.LpInteger) # 8 + 8 + 8\n",
    "x4 = pulp.LpVariable(\"x4\", 0, cat=pulp.LpInteger) # 8 + 8 + 6\n",
    "x5 = pulp.LpVariable(\"x5\", 0, cat=pulp.LpInteger) # 8 + 6 + 6\n",
    "x6 = pulp.LpVariable(\"x6\", 0, cat=pulp.LpInteger) # 6 + 6 + 6 + 6\n",
    "\n",
    "pc = pulp.LpProblem('problem_cut')\n",
    "pc += x1 + x2 + x3 + x4 + x5 + x6, 'objective_function'\n",
    "pc += x1 + x2 >= 26, 'size_a'\n",
    "pc += x1 + 3 * x3 + 2 * x4 + x5 >= 52, 'size_b'\n",
    "pc += x2 + x4 + 2 * x5 + 4 * x6 >= 65, 'size_c'\n",
    "pc"
   ]
  },
  {
   "cell_type": "code",
   "execution_count": 20,
   "metadata": {},
   "outputs": [
    {
     "data": {
      "text/plain": [
       "'Optimal'"
      ]
     },
     "execution_count": 20,
     "metadata": {},
     "output_type": "execute_result"
    }
   ],
   "source": [
    "result = pc.solve()\n",
    "pulp.LpStatus[result]"
   ]
  },
  {
   "cell_type": "code",
   "execution_count": 21,
   "metadata": {},
   "outputs": [
    {
     "data": {
      "text/plain": [
       "51"
      ]
     },
     "execution_count": 21,
     "metadata": {},
     "output_type": "execute_result"
    }
   ],
   "source": [
    "pulp.value(pc.objective)"
   ]
  },
  {
   "cell_type": "code",
   "execution_count": 22,
   "metadata": {},
   "outputs": [
    {
     "name": "stdout",
     "output_type": "stream",
     "text": [
      "x1 = 25\n",
      "x2 = 1\n",
      "x3 = 9\n",
      "x4 = 0\n",
      "x5 = 0\n",
      "x6 = 16\n"
     ]
    }
   ],
   "source": [
    "for v in pc.variables():\n",
    "    print(f\"{v} = {pulp.value(v)}\")"
   ]
  }
 ],
 "metadata": {
  "kernelspec": {
   "display_name": "Python 3",
   "language": "python",
   "name": "python3"
  },
  "language_info": {
   "codemirror_mode": {
    "name": "ipython",
    "version": 3
   },
   "file_extension": ".py",
   "mimetype": "text/x-python",
   "name": "python",
   "nbconvert_exporter": "python",
   "pygments_lexer": "ipython3",
   "version": "3.8.3"
  }
 },
 "nbformat": 4,
 "nbformat_minor": 4
}
