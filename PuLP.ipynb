{
 "cells": [
  {
   "cell_type": "code",
   "execution_count": 1,
   "metadata": {},
   "outputs": [],
   "source": [
    "import pulp"
   ]
  },
  {
   "cell_type": "code",
   "execution_count": 2,
   "metadata": {},
   "outputs": [],
   "source": [
    "# 線形最適化問題"
   ]
  },
  {
   "cell_type": "code",
   "execution_count": 3,
   "metadata": {},
   "outputs": [
    {
     "data": {
      "text/plain": [
       "problem_name:\n",
       "MAXIMIZE\n",
       "1*x1_var + 2*x2_var + 0\n",
       "SUBJECT TO\n",
       "condition_material: x1_var + 3 x2_var <= 24\n",
       "\n",
       "condition_work: 4 x1_var + 4 x2_var <= 48\n",
       "\n",
       "condition_time: 2 x1_var + x2_var <= 22\n",
       "\n",
       "VARIABLES\n",
       "x1_var Continuous\n",
       "x2_var Continuous"
      ]
     },
     "execution_count": 3,
     "metadata": {},
     "output_type": "execute_result"
    }
   ],
   "source": [
    "# 定式化\n",
    "x1 = pulp.LpVariable('x1_var', 0)\n",
    "x2 = pulp.LpVariable('x2_var', 0)\n",
    "p = pulp.LpProblem('problem_name', sense = pulp.LpMaximize)\n",
    "# 目的関数\n",
    "p += x1 + 2 * x2 , 'objective_function_profit'\n",
    "p += x1 + 3 * x2 <= 24 , 'condition_material'\n",
    "p += 4 * x1 + 4 * x2 <= 48 , 'condition_work'\n",
    "p += 2 * x1 + x2 <= 22 , 'condition_time'\n",
    "p"
   ]
  },
  {
   "cell_type": "code",
   "execution_count": 4,
   "metadata": {},
   "outputs": [
    {
     "data": {
      "text/plain": [
       "'Optimal'"
      ]
     },
     "execution_count": 4,
     "metadata": {},
     "output_type": "execute_result"
    }
   ],
   "source": [
    "result = p.solve()\n",
    "pulp.LpStatus[result]"
   ]
  },
  {
   "cell_type": "code",
   "execution_count": 5,
   "metadata": {},
   "outputs": [
    {
     "data": {
      "text/plain": [
       "18.0"
      ]
     },
     "execution_count": 5,
     "metadata": {},
     "output_type": "execute_result"
    }
   ],
   "source": [
    "pulp.value(p.objective)"
   ]
  },
  {
   "cell_type": "code",
   "execution_count": 6,
   "metadata": {},
   "outputs": [
    {
     "name": "stdout",
     "output_type": "stream",
     "text": [
      "x1_var = 6.0\n",
      "x2_var = 6.0\n"
     ]
    }
   ],
   "source": [
    "for v in p.variables():\n",
    "    print(f\"{v} = {pulp.value(v)}\")"
   ]
  },
  {
   "cell_type": "code",
   "execution_count": 7,
   "metadata": {},
   "outputs": [],
   "source": [
    "# 食事問題"
   ]
  },
  {
   "cell_type": "code",
   "execution_count": 8,
   "metadata": {},
   "outputs": [
    {
     "data": {
      "text/plain": [
       "problem_eat:\n",
       "MINIMIZE\n",
       "75*xA + 62*xB + 50*xC + 0\n",
       "SUBJECT TO\n",
       "condition_A: 30 xA + 18 xB + 11 xC >= 150\n",
       "\n",
       "condition_B: 18 xA + 22 xB + 40 xC >= 100\n",
       "\n",
       "condition_C: 2 xA + 3 xB + 5 xC >= 15\n",
       "\n",
       "VARIABLES\n",
       "xA Continuous\n",
       "xB Continuous\n",
       "xC Continuous"
      ]
     },
     "execution_count": 8,
     "metadata": {},
     "output_type": "execute_result"
    }
   ],
   "source": [
    "xA = pulp.LpVariable(\"xA\", 0)\n",
    "xB = pulp.LpVariable(\"xB\", 0)\n",
    "xC = pulp.LpVariable(\"xC\", 0)\n",
    "pp = pulp.LpProblem(\"problem_eat\")\n",
    "pp += 75 * xA + 62 * xB + 50 * xC, 'objective_function_eat'\n",
    "pp += 30 * xA + 18 * xB + 11 * xC >= 150, 'condition_A'\n",
    "pp += 18 * xA + 22 * xB + 40 * xC >= 100, 'condition_B'\n",
    "pp += 2 * xA + 3 * xB + 5 * xC >= 15, 'condition_C'\n",
    "pp"
   ]
  },
  {
   "cell_type": "code",
   "execution_count": 9,
   "metadata": {},
   "outputs": [
    {
     "data": {
      "text/plain": [
       "'Optimal'"
      ]
     },
     "execution_count": 9,
     "metadata": {},
     "output_type": "execute_result"
    }
   ],
   "source": [
    "result_e = pp.solve()\n",
    "pulp.LpStatus[result_e]"
   ]
  },
  {
   "cell_type": "code",
   "execution_count": 10,
   "metadata": {},
   "outputs": [
    {
     "data": {
      "text/plain": [
       "401.36675"
      ]
     },
     "execution_count": 10,
     "metadata": {},
     "output_type": "execute_result"
    }
   ],
   "source": [
    "pulp.value(pp.objective)"
   ]
  },
  {
   "cell_type": "code",
   "execution_count": 11,
   "metadata": {},
   "outputs": [
    {
     "name": "stdout",
     "output_type": "stream",
     "text": [
      "xA = 4.57031\n",
      "xB = 0.0\n",
      "xC = 1.17187\n"
     ]
    }
   ],
   "source": [
    "for v in pp.variables():\n",
    "    print(f\"{v} = {pulp.value(v)}\")"
   ]
  },
  {
   "cell_type": "code",
   "execution_count": null,
   "metadata": {},
   "outputs": [],
   "source": []
  },
  {
   "cell_type": "code",
   "execution_count": null,
   "metadata": {},
   "outputs": [],
   "source": []
  }
 ],
 "metadata": {
  "kernelspec": {
   "display_name": "Python 3",
   "language": "python",
   "name": "python3"
  },
  "language_info": {
   "codemirror_mode": {
    "name": "ipython",
    "version": 3
   },
   "file_extension": ".py",
   "mimetype": "text/x-python",
   "name": "python",
   "nbconvert_exporter": "python",
   "pygments_lexer": "ipython3",
   "version": "3.8.3"
  }
 },
 "nbformat": 4,
 "nbformat_minor": 4
}
